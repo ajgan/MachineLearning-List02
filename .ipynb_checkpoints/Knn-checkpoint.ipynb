{
 "cells": [
  {
   "cell_type": "code",
   "execution_count": 2,
   "metadata": {
    "collapsed": true
   },
   "outputs": [],
   "source": [
    "import pandas as pd\n",
    "import numpy as np"
   ]
  },
  {
   "cell_type": "code",
   "execution_count": 104,
   "metadata": {
    "collapsed": true
   },
   "outputs": [],
   "source": [
    "def euclidean(ai, bi):\n",
    "    return ((float(ai) - float(bi)))**2"
   ]
  },
  {
   "cell_type": "code",
   "execution_count": 96,
   "metadata": {
    "collapsed": true
   },
   "outputs": [],
   "source": [
    "def calcDistance(query, instance, weighted):\n",
    "    distance = 0\n",
    "    weight = 1\n",
    "    for i in range(len(instance)-1):\n",
    "        distance = distance + euclidean(query[i],instance[i])\n",
    "    distance = (distance)**0.5\n",
    "    if (weighted == 1):\n",
    "        if (distance==0):\n",
    "            distance = 0.01\n",
    "        weight = 1/(distance**2)\n",
    "    return ((distance, weight))"
   ]
  },
  {
   "cell_type": "code",
   "execution_count": 4,
   "metadata": {
    "collapsed": true
   },
   "outputs": [],
   "source": [
    "def vdm(ai, bi, attributeCount, pos, classList):\n",
    "    nia = 0\n",
    "    nib = 0\n",
    "    vdmResult = 0\n",
    "    for i in range(len(attributeCount)):\n",
    "        if (attributeCount[i][0] == ai and attributeCount[i][2] == pos):\n",
    "            nia = nia + attributeCount[i][3]\n",
    "        if (attributeCount[i][0] == bi and attributeCount[i][2] == pos):\n",
    "            nib = nib + attributeCount[i][3]\n",
    "                   \n",
    "    for j in range(len(classList)):\n",
    "        niac = 0\n",
    "        nibc = 0\n",
    "        for i in range(len(attributeCount)):\n",
    "            if (attributeCount[i][0] == ai and attributeCount[i][1] == classList[j] and attributeCount[i][2] == pos):\n",
    "                niac = niac + attributeCount[i][3]\n",
    "            if (attributeCount[i][0] == ai and attributeCount[i][1] == classList[j] and attributeCount[i][2] == pos):\n",
    "                nibc = nibc + attributeCount[i][3]\n",
    "        \n",
    "        if (nia == 0):\n",
    "            v1 = 0\n",
    "        else:\n",
    "            v1 = niac/nia\n",
    "        \n",
    "        if (nib == 0):\n",
    "            v2 = 0\n",
    "        else:\n",
    "            v2 = nibc/nib\n",
    "        \n",
    "        calc = abs(v1-v2)\n",
    "        vdmResult = vdmResult + calc\n",
    "        \n",
    "    return vdmResult"
   ]
  },
  {
   "cell_type": "code",
   "execution_count": 97,
   "metadata": {
    "collapsed": true
   },
   "outputs": [],
   "source": [
    "def calcVDM(query, instance, weighted, attributeCount, classList):\n",
    "    distance = 0\n",
    "    weight = 1\n",
    "    for i in range(len(query)):\n",
    "        distance = distance + vdm(query[i], instance[i], attributeCount, i, classList)\n",
    "    \n",
    "    distance = (distance)**0.5\n",
    "    \n",
    "    if (weighted == 1):\n",
    "        if (distance==0):\n",
    "            distance = 0.01\n",
    "        weight = 1/(distance**2)\n",
    "    \n",
    "    return ((distance, weight))"
   ]
  },
  {
   "cell_type": "code",
   "execution_count": 114,
   "metadata": {
    "collapsed": true
   },
   "outputs": [],
   "source": [
    "def calcHVDM(query, instance, weighted, attributeCount, classList, typeList):\n",
    "    distance = 0\n",
    "    weight = 1\n",
    "    for i in range(len(query)):\n",
    "        if (typeList[i] == 'num'):\n",
    "            distance = distance + ((euclidean(query[i], instance[i]))**2)\n",
    "        elif (typeList[i] == 'cat'):\n",
    "            distance = distance + ((vdm(query[i], instance[i], attributeCount, i, classList))**2)\n",
    "    \n",
    "    distance = (distance)**0.5\n",
    "    \n",
    "    if (weighted == 1):\n",
    "        if(distance==0):\n",
    "            distance = 0.01\n",
    "        weight = 1/(distance**2)\n",
    "    \n",
    "    return ((distance, weight))"
   ]
  },
  {
   "cell_type": "code",
   "execution_count": 85,
   "metadata": {
    "collapsed": true
   },
   "outputs": [],
   "source": [
    "def getNeighbors(distances, n):\n",
    "    classes = []\n",
    "    classList = []\n",
    "    for i in range(n):\n",
    "        myClass = distances[i][0][-1]\n",
    "        myWeight = distances[i][2]\n",
    "        if (myClass not in classList):\n",
    "            classes.append((myClass, myWeight))\n",
    "            classList.append(myClass)\n",
    "        else:\n",
    "            for j in range(len(classes)):\n",
    "                if (myClass == classes[j][0]):\n",
    "                    classes[j] = list(classes[j])\n",
    "                    classes[j][1] = classes[j][1] + myWeight\n",
    "                    break\n",
    "    \n",
    "    classes.sort(key=lambda x: x[1], reverse=True)\n",
    "    return classes[0][0]"
   ]
  },
  {
   "cell_type": "code",
   "execution_count": 81,
   "metadata": {
    "collapsed": true
   },
   "outputs": [],
   "source": [
    "def knn (query, data, weighted, dataType, typeList):\n",
    "    # k = testInstance\n",
    "    # \n",
    "    #dataType 0 = numérico, 1 = categorico, 2 = heterogeneo\n",
    "    distances = []\n",
    "    classes = []\n",
    "    \n",
    "    attributeCount = []\n",
    "    \n",
    "    classColumn = [row[-1] for row in data]\n",
    "    classList = []\n",
    "    \n",
    "    for i in range(len(classColumn)):\n",
    "        if (classColumn[i] not in classList):\n",
    "            classList.append(classColumn[i])\n",
    "    \n",
    "    for i in range(len(data[0])-1):\n",
    "        for j in range(len(data)):\n",
    "            flag = 0\n",
    "            for k in range(len(attributeCount)):\n",
    "                if (data[j][i]==attributeCount[k][0] and data[j][-1]==attributeCount[k][1] and i == attributeCount[k][2]):\n",
    "                    attributeCount[k][3] = attributeCount[k][3] + 1\n",
    "                    flag = 1\n",
    "                \n",
    "            if(flag == 0):\n",
    "                attributeCount.append([data[j][i], data[j][-1], i, 1])\n",
    "            \n",
    "            #if (data[j][i] not in attr):\n",
    "             #   if (len(attr)==0):\n",
    "              #      attributeCount.append([data[j][i], data[j][-1], 1])\n",
    "               # else:\n",
    "                #    for k in range(len(attributeCount)):\n",
    "                 #       if (data[j][i]==attributeCount[k][0] and data[j][-1]==attributeCount[k][1]):\n",
    "                  #          attributeCount[k][2] = attributeCount[k][2] + 1\n",
    "                #attr.append([data[j][i], data[j][-1]])\n",
    "\n",
    "    #euclidean\n",
    "    if (dataType == 0):\n",
    "        for i in range(len(data)):\n",
    "            distance = calcDistance(query, data[i], weighted)\n",
    "            distances.append((data[i], distance[0], distance[1]))\n",
    "        distances.sort(key=lambda x: x[0], reverse=True)\n",
    "        distances.sort(key=lambda x: x[1], reverse=False)\n",
    "    #vdm\n",
    "    elif (dataType == 1):\n",
    "        for i in range(len(data)):\n",
    "            distance = calcVDM(query, data[i], weighted, attributeCount, classList)\n",
    "            distances.append((data[i], distance[0], distance[1]))\n",
    "        distances.sort(key=lambda x: x[0], reverse=True)\n",
    "        distances.sort(key=lambda x: x[1], reverse=False)\n",
    "    \n",
    "    #hvdm\n",
    "    elif (dataType == 2):\n",
    "        for i in range(len(data)):\n",
    "            distance = calcHVDM(query, data[i], weighted, attributeCount, classList, typeList)\n",
    "            distances.append((data[i], distance[0], distance[1]))\n",
    "        distances.sort(key=lambda x: x[0], reverse=True)\n",
    "        distances.sort(key=lambda x: x[1], reverse=False)\n",
    "    \n",
    "    return distances"
   ]
  },
  {
   "cell_type": "code",
   "execution_count": 8,
   "metadata": {
    "collapsed": true
   },
   "outputs": [],
   "source": [
    "import random"
   ]
  },
  {
   "cell_type": "code",
   "execution_count": 9,
   "metadata": {
    "collapsed": true
   },
   "outputs": [],
   "source": [
    "def kFolds (dataset, k, shuffle, mySeed):\n",
    "    \n",
    "    if (shuffle==1):\n",
    "        random.seed(mySeed)\n",
    "        finalDataset = dataset.sample(frac=1, random_state=mySeed)\n",
    "    else:\n",
    "        finalDataset = dataset.copy()\n",
    "        \n",
    "    splittedDataset = np.array_split(finalDataset, k)\n",
    "    \n",
    "    return splittedDataset"
   ]
  },
  {
   "cell_type": "code",
   "execution_count": 91,
   "metadata": {
    "collapsed": true
   },
   "outputs": [],
   "source": [
    "def crossValidation(dataset, kFold, shuffle, mySeed, kVariation, weighted, dataType, typeList):\n",
    "    \n",
    "    foldHits = []\n",
    "    for i in range(len(kVariation)):\n",
    "        foldHits.append(0)\n",
    "        \n",
    "    datasetFolds = kFolds(dataset, kFold, shuffle, mySeed)\n",
    "    for i in range(kFold):\n",
    "        testset = datasetFolds[i].reset_index(drop=True)\n",
    "        frames = []\n",
    "        for j in range(kFold):\n",
    "            if (not j==i):\n",
    "                frames.append(datasetFolds[j])\n",
    "        trainset = pd.concat(frames).reset_index(drop=True)\n",
    "        hits = 0\n",
    "        trainsetList = trainset.values.tolist()\n",
    "        for m in range(len(testset)):\n",
    "            neighbors = knn(testset.iloc[m], trainsetList, weighted, dataType, typeList)\n",
    "            for z in range(len(kVariation)):\n",
    "                prediction = getNeighbors(neighbors, kVariation[z])    \n",
    "                if (prediction == testset.iloc[m][-1]):\n",
    "                    foldHits[z] = foldHits[z] + 1\n",
    "                \n",
    "    \n",
    "    for n in range(len(foldHits)):\n",
    "        foldHits[n] = foldHits[n]/len(dataset)    \n",
    "    return foldHits"
   ]
  },
  {
   "cell_type": "code",
   "execution_count": 3,
   "metadata": {},
   "outputs": [
    {
     "ename": "FileNotFoundError",
     "evalue": "File b'..//datasets/dataretrieve.csv' does not exist",
     "output_type": "error",
     "traceback": [
      "\u001b[0;31m---------------------------------------------------------------------------\u001b[0m",
      "\u001b[0;31mFileNotFoundError\u001b[0m                         Traceback (most recent call last)",
      "\u001b[0;32m<ipython-input-3-d79ba1decbdd>\u001b[0m in \u001b[0;36m<module>\u001b[0;34m()\u001b[0m\n\u001b[0;32m----> 1\u001b[0;31m \u001b[0mdataretrieve\u001b[0m \u001b[0;34m=\u001b[0m \u001b[0mpd\u001b[0m\u001b[0;34m.\u001b[0m\u001b[0mread_csv\u001b[0m\u001b[0;34m(\u001b[0m\u001b[0;34m\"..//datasets/dataretrieve.csv\"\u001b[0m\u001b[0;34m,\u001b[0m \u001b[0mna_values\u001b[0m\u001b[0;34m=\u001b[0m\u001b[0;34m'?'\u001b[0m\u001b[0;34m)\u001b[0m\u001b[0;34m\u001b[0m\u001b[0m\n\u001b[0m\u001b[1;32m      2\u001b[0m \u001b[0mdesharnais\u001b[0m \u001b[0;34m=\u001b[0m \u001b[0mpd\u001b[0m\u001b[0;34m.\u001b[0m\u001b[0mread_csv\u001b[0m\u001b[0;34m(\u001b[0m\u001b[0;34m\"..//datasets/desharnais.csv\"\u001b[0m\u001b[0;34m,\u001b[0m \u001b[0mna_values\u001b[0m\u001b[0;34m=\u001b[0m\u001b[0;34m'?'\u001b[0m\u001b[0;34m)\u001b[0m\u001b[0;34m\u001b[0m\u001b[0m\n",
      "\u001b[0;32m/Users/ajgan/anaconda/lib/python3.6/site-packages/pandas/io/parsers.py\u001b[0m in \u001b[0;36mparser_f\u001b[0;34m(filepath_or_buffer, sep, delimiter, header, names, index_col, usecols, squeeze, prefix, mangle_dupe_cols, dtype, engine, converters, true_values, false_values, skipinitialspace, skiprows, nrows, na_values, keep_default_na, na_filter, verbose, skip_blank_lines, parse_dates, infer_datetime_format, keep_date_col, date_parser, dayfirst, iterator, chunksize, compression, thousands, decimal, lineterminator, quotechar, quoting, escapechar, comment, encoding, dialect, tupleize_cols, error_bad_lines, warn_bad_lines, skipfooter, skip_footer, doublequote, delim_whitespace, as_recarray, compact_ints, use_unsigned, low_memory, buffer_lines, memory_map, float_precision)\u001b[0m\n\u001b[1;32m    653\u001b[0m                     skip_blank_lines=skip_blank_lines)\n\u001b[1;32m    654\u001b[0m \u001b[0;34m\u001b[0m\u001b[0m\n\u001b[0;32m--> 655\u001b[0;31m         \u001b[0;32mreturn\u001b[0m \u001b[0m_read\u001b[0m\u001b[0;34m(\u001b[0m\u001b[0mfilepath_or_buffer\u001b[0m\u001b[0;34m,\u001b[0m \u001b[0mkwds\u001b[0m\u001b[0;34m)\u001b[0m\u001b[0;34m\u001b[0m\u001b[0m\n\u001b[0m\u001b[1;32m    656\u001b[0m \u001b[0;34m\u001b[0m\u001b[0m\n\u001b[1;32m    657\u001b[0m     \u001b[0mparser_f\u001b[0m\u001b[0;34m.\u001b[0m\u001b[0m__name__\u001b[0m \u001b[0;34m=\u001b[0m \u001b[0mname\u001b[0m\u001b[0;34m\u001b[0m\u001b[0m\n",
      "\u001b[0;32m/Users/ajgan/anaconda/lib/python3.6/site-packages/pandas/io/parsers.py\u001b[0m in \u001b[0;36m_read\u001b[0;34m(filepath_or_buffer, kwds)\u001b[0m\n\u001b[1;32m    403\u001b[0m \u001b[0;34m\u001b[0m\u001b[0m\n\u001b[1;32m    404\u001b[0m     \u001b[0;31m# Create the parser.\u001b[0m\u001b[0;34m\u001b[0m\u001b[0;34m\u001b[0m\u001b[0m\n\u001b[0;32m--> 405\u001b[0;31m     \u001b[0mparser\u001b[0m \u001b[0;34m=\u001b[0m \u001b[0mTextFileReader\u001b[0m\u001b[0;34m(\u001b[0m\u001b[0mfilepath_or_buffer\u001b[0m\u001b[0;34m,\u001b[0m \u001b[0;34m**\u001b[0m\u001b[0mkwds\u001b[0m\u001b[0;34m)\u001b[0m\u001b[0;34m\u001b[0m\u001b[0m\n\u001b[0m\u001b[1;32m    406\u001b[0m \u001b[0;34m\u001b[0m\u001b[0m\n\u001b[1;32m    407\u001b[0m     \u001b[0;32mif\u001b[0m \u001b[0mchunksize\u001b[0m \u001b[0;32mor\u001b[0m \u001b[0miterator\u001b[0m\u001b[0;34m:\u001b[0m\u001b[0;34m\u001b[0m\u001b[0m\n",
      "\u001b[0;32m/Users/ajgan/anaconda/lib/python3.6/site-packages/pandas/io/parsers.py\u001b[0m in \u001b[0;36m__init__\u001b[0;34m(self, f, engine, **kwds)\u001b[0m\n\u001b[1;32m    760\u001b[0m             \u001b[0mself\u001b[0m\u001b[0;34m.\u001b[0m\u001b[0moptions\u001b[0m\u001b[0;34m[\u001b[0m\u001b[0;34m'has_index_names'\u001b[0m\u001b[0;34m]\u001b[0m \u001b[0;34m=\u001b[0m \u001b[0mkwds\u001b[0m\u001b[0;34m[\u001b[0m\u001b[0;34m'has_index_names'\u001b[0m\u001b[0;34m]\u001b[0m\u001b[0;34m\u001b[0m\u001b[0m\n\u001b[1;32m    761\u001b[0m \u001b[0;34m\u001b[0m\u001b[0m\n\u001b[0;32m--> 762\u001b[0;31m         \u001b[0mself\u001b[0m\u001b[0;34m.\u001b[0m\u001b[0m_make_engine\u001b[0m\u001b[0;34m(\u001b[0m\u001b[0mself\u001b[0m\u001b[0;34m.\u001b[0m\u001b[0mengine\u001b[0m\u001b[0;34m)\u001b[0m\u001b[0;34m\u001b[0m\u001b[0m\n\u001b[0m\u001b[1;32m    763\u001b[0m \u001b[0;34m\u001b[0m\u001b[0m\n\u001b[1;32m    764\u001b[0m     \u001b[0;32mdef\u001b[0m \u001b[0mclose\u001b[0m\u001b[0;34m(\u001b[0m\u001b[0mself\u001b[0m\u001b[0;34m)\u001b[0m\u001b[0;34m:\u001b[0m\u001b[0;34m\u001b[0m\u001b[0m\n",
      "\u001b[0;32m/Users/ajgan/anaconda/lib/python3.6/site-packages/pandas/io/parsers.py\u001b[0m in \u001b[0;36m_make_engine\u001b[0;34m(self, engine)\u001b[0m\n\u001b[1;32m    964\u001b[0m     \u001b[0;32mdef\u001b[0m \u001b[0m_make_engine\u001b[0m\u001b[0;34m(\u001b[0m\u001b[0mself\u001b[0m\u001b[0;34m,\u001b[0m \u001b[0mengine\u001b[0m\u001b[0;34m=\u001b[0m\u001b[0;34m'c'\u001b[0m\u001b[0;34m)\u001b[0m\u001b[0;34m:\u001b[0m\u001b[0;34m\u001b[0m\u001b[0m\n\u001b[1;32m    965\u001b[0m         \u001b[0;32mif\u001b[0m \u001b[0mengine\u001b[0m \u001b[0;34m==\u001b[0m \u001b[0;34m'c'\u001b[0m\u001b[0;34m:\u001b[0m\u001b[0;34m\u001b[0m\u001b[0m\n\u001b[0;32m--> 966\u001b[0;31m             \u001b[0mself\u001b[0m\u001b[0;34m.\u001b[0m\u001b[0m_engine\u001b[0m \u001b[0;34m=\u001b[0m \u001b[0mCParserWrapper\u001b[0m\u001b[0;34m(\u001b[0m\u001b[0mself\u001b[0m\u001b[0;34m.\u001b[0m\u001b[0mf\u001b[0m\u001b[0;34m,\u001b[0m \u001b[0;34m**\u001b[0m\u001b[0mself\u001b[0m\u001b[0;34m.\u001b[0m\u001b[0moptions\u001b[0m\u001b[0;34m)\u001b[0m\u001b[0;34m\u001b[0m\u001b[0m\n\u001b[0m\u001b[1;32m    967\u001b[0m         \u001b[0;32melse\u001b[0m\u001b[0;34m:\u001b[0m\u001b[0;34m\u001b[0m\u001b[0m\n\u001b[1;32m    968\u001b[0m             \u001b[0;32mif\u001b[0m \u001b[0mengine\u001b[0m \u001b[0;34m==\u001b[0m \u001b[0;34m'python'\u001b[0m\u001b[0;34m:\u001b[0m\u001b[0;34m\u001b[0m\u001b[0m\n",
      "\u001b[0;32m/Users/ajgan/anaconda/lib/python3.6/site-packages/pandas/io/parsers.py\u001b[0m in \u001b[0;36m__init__\u001b[0;34m(self, src, **kwds)\u001b[0m\n\u001b[1;32m   1580\u001b[0m         \u001b[0mkwds\u001b[0m\u001b[0;34m[\u001b[0m\u001b[0;34m'allow_leading_cols'\u001b[0m\u001b[0;34m]\u001b[0m \u001b[0;34m=\u001b[0m \u001b[0mself\u001b[0m\u001b[0;34m.\u001b[0m\u001b[0mindex_col\u001b[0m \u001b[0;32mis\u001b[0m \u001b[0;32mnot\u001b[0m \u001b[0;32mFalse\u001b[0m\u001b[0;34m\u001b[0m\u001b[0m\n\u001b[1;32m   1581\u001b[0m \u001b[0;34m\u001b[0m\u001b[0m\n\u001b[0;32m-> 1582\u001b[0;31m         \u001b[0mself\u001b[0m\u001b[0;34m.\u001b[0m\u001b[0m_reader\u001b[0m \u001b[0;34m=\u001b[0m \u001b[0mparsers\u001b[0m\u001b[0;34m.\u001b[0m\u001b[0mTextReader\u001b[0m\u001b[0;34m(\u001b[0m\u001b[0msrc\u001b[0m\u001b[0;34m,\u001b[0m \u001b[0;34m**\u001b[0m\u001b[0mkwds\u001b[0m\u001b[0;34m)\u001b[0m\u001b[0;34m\u001b[0m\u001b[0m\n\u001b[0m\u001b[1;32m   1583\u001b[0m \u001b[0;34m\u001b[0m\u001b[0m\n\u001b[1;32m   1584\u001b[0m         \u001b[0;31m# XXX\u001b[0m\u001b[0;34m\u001b[0m\u001b[0;34m\u001b[0m\u001b[0m\n",
      "\u001b[0;32mpandas/_libs/parsers.pyx\u001b[0m in \u001b[0;36mpandas._libs.parsers.TextReader.__cinit__ (pandas/_libs/parsers.c:4209)\u001b[0;34m()\u001b[0m\n",
      "\u001b[0;32mpandas/_libs/parsers.pyx\u001b[0m in \u001b[0;36mpandas._libs.parsers.TextReader._setup_parser_source (pandas/_libs/parsers.c:8873)\u001b[0;34m()\u001b[0m\n",
      "\u001b[0;31mFileNotFoundError\u001b[0m: File b'..//datasets/dataretrieve.csv' does not exist"
     ]
    }
   ],
   "source": [
    "dataretrieve = pd.read_csv(\"..//datasets/dataretrieve.csv\", na_values='?')\n",
    "desharnais = pd.read_csv(\"..//datasets/desharnais.csv\", na_values='?')"
   ]
  },
  {
   "cell_type": "code",
   "execution_count": 144,
   "metadata": {
    "collapsed": true
   },
   "outputs": [],
   "source": [
    "dataretrieve = dataretrieve.fillna(0)\n",
    "desharnais = desharnais.fillna(0)\n",
    "lenses = lenses.fillna(0)\n",
    "hayesRoth = hayesRoth.fillna(0)\n",
    "tae = tae.fillna(0)\n",
    "postOpperative = postOpperative.fillna(0)"
   ]
  },
  {
   "cell_type": "code",
   "execution_count": 145,
   "metadata": {
    "collapsed": true
   },
   "outputs": [],
   "source": [
    "with open(\"..//datasets/q1/dataretrieve.txt\") as infile:\n",
    "    dataretrievelist = infile.read()\n",
    "    dataretrievelist = dataretrievelist.split(',')\n",
    "with open(\"..//datasets/q1/desharnais.txt\") as infile:\n",
    "    desharnaislist = infile.read()\n",
    "    desharnaislist = desharnaislist.split(',')\n",
    "with open(\"..//datasets/q2/lenses.txt\") as infile:\n",
    "    lenseslist = infile.read()\n",
    "    lenseslist = lenseslist.split(',')\n",
    "with open(\"..//datasets/q2/hayes-roth.txt\") as infile:\n",
    "    hayesRothlist = infile.read()\n",
    "    hayesRothlist = hayesRothlist.split(',')\n",
    "with open(\"..//datasets/q3/tae.txt\") as infile:\n",
    "    taelist = infile.read()\n",
    "    taelist = taelist.split(',')\n",
    "with open(\"..//datasets/q3/postOpperative.txt\") as infile:\n",
    "    postOpperativelist = infile.read()\n",
    "    postOpperativelist = postOpperativelist.split(',')"
   ]
  },
  {
   "cell_type": "code",
   "execution_count": 63,
   "metadata": {
    "collapsed": true
   },
   "outputs": [],
   "source": [
    "import time"
   ]
  },
  {
   "cell_type": "code",
   "execution_count": 64,
   "metadata": {
    "collapsed": true
   },
   "outputs": [],
   "source": [
    "kVariation = [1,2,3,5,7,9,11,13,15]"
   ]
  },
  {
   "cell_type": "code",
   "execution_count": 83,
   "metadata": {
    "collapsed": true
   },
   "outputs": [],
   "source": [
    "def calculateScores(dataset, weighted, dataType, typeList):\n",
    "    scores = []\n",
    "    startTime = time.time()\n",
    "    scores = crossValidation(dataset, 5, 1, 1000, kVariation, weighted, dataType, typeList)\n",
    "    finishTime = time.time()\n",
    "    totalTime = finishTime - startTime\n",
    "    return [scores,totalTime]"
   ]
  },
  {
   "cell_type": "code",
   "execution_count": 345,
   "metadata": {
    "collapsed": true
   },
   "outputs": [],
   "source": [
    "import matplotlib\n",
    "import matplotlib.pyplot as plt\n",
    "import matplotlib.ticker as mticker\n",
    "from matplotlib.ticker import FormatStrFormatter\n",
    "import seaborn as sns"
   ]
  },
  {
   "cell_type": "markdown",
   "metadata": {},
   "source": [
    "# Questão 1"
   ]
  },
  {
   "cell_type": "code",
   "execution_count": 274,
   "metadata": {},
   "outputs": [
    {
     "name": "stdout",
     "output_type": "stream",
     "text": [
      "7.755408048629761\n"
     ]
    },
    {
     "data": {
      "text/html": [
       "<div>\n",
       "<style>\n",
       "    .dataframe thead tr:only-child th {\n",
       "        text-align: right;\n",
       "    }\n",
       "\n",
       "    .dataframe thead th {\n",
       "        text-align: left;\n",
       "    }\n",
       "\n",
       "    .dataframe tbody tr th {\n",
       "        vertical-align: top;\n",
       "    }\n",
       "</style>\n",
       "<table border=\"1\" class=\"dataframe\">\n",
       "  <thead>\n",
       "    <tr style=\"text-align: right;\">\n",
       "      <th></th>\n",
       "      <th>k1</th>\n",
       "      <th>k2</th>\n",
       "      <th>k3</th>\n",
       "      <th>k5</th>\n",
       "      <th>k7</th>\n",
       "      <th>k9</th>\n",
       "      <th>k11</th>\n",
       "      <th>k13</th>\n",
       "      <th>k15</th>\n",
       "    </tr>\n",
       "  </thead>\n",
       "  <tbody>\n",
       "    <tr>\n",
       "      <th>0</th>\n",
       "      <td>0.838462</td>\n",
       "      <td>0.838462</td>\n",
       "      <td>0.915385</td>\n",
       "      <td>0.915385</td>\n",
       "      <td>0.915385</td>\n",
       "      <td>0.915385</td>\n",
       "      <td>0.915385</td>\n",
       "      <td>0.915385</td>\n",
       "      <td>0.915385</td>\n",
       "    </tr>\n",
       "  </tbody>\n",
       "</table>\n",
       "</div>"
      ],
      "text/plain": [
       "         k1        k2        k3        k5        k7        k9       k11  \\\n",
       "0  0.838462  0.838462  0.915385  0.915385  0.915385  0.915385  0.915385   \n",
       "\n",
       "        k13       k15  \n",
       "0  0.915385  0.915385  "
      ]
     },
     "execution_count": 274,
     "metadata": {},
     "output_type": "execute_result"
    }
   ],
   "source": [
    "dataretrieveNoWeight = calculateScores(dataretrieve, 0, 0, dataretrievelist)\n",
    "dataretrieveNoWeightDF = pd.DataFrame([dataretrieveNoWeight[0]], columns = ([\"k1\", \"k2\", \"k3\", \"k5\", \"k7\", \"k9\", \"k11\", \"k13\", \"k15\"]))\n",
    "dataretrieveNoWeightDF.to_csv(\"..//results/q1/dataretrieveNoWeight.csv\", index=False)\n",
    "print(dataretrieveNoWeight[1])\n",
    "dataretrieveNoWeightDF"
   ]
  },
  {
   "cell_type": "code",
   "execution_count": 313,
   "metadata": {},
   "outputs": [
    {
     "data": {
      "image/png": "[encoded data removed]",
      "text/plain": [
       "<matplotlib.figure.Figure at 0x11ddf5438>"
      ]
     },
     "metadata": {},
     "output_type": "display_data"
    }
   ],
   "source": [
    "plt.ylim((0.6,1))\n",
    "ax = sns.barplot(x=dataretrieveNoWeightDF.T.index, y=dataretrieveNoWeightDF.T[0], color = sns.xkcd_rgb['light blue'])\n",
    "ax.set(xlabel='k')\n",
    "ax.set(ylabel='% acerto')\n",
    "for p in ax.patches:\n",
    "    ax.annotate(np.round(p.get_height(), decimals=4), (p.get_x(), p.get_height()+0.01))\n",
    "plt.savefig(\"..//results/q1/dataretrieveNoWeight.jpg\")\n",
    "plt.show()"
   ]
  },
  {
   "cell_type": "code",
   "execution_count": 305,
   "metadata": {},
   "outputs": [
    {
     "name": "stdout",
     "output_type": "stream",
     "text": [
      "7.775059938430786\n"
     ]
    },
    {
     "data": {
      "text/html": [
       "<div>\n",
       "<style>\n",
       "    .dataframe thead tr:only-child th {\n",
       "        text-align: right;\n",
       "    }\n",
       "\n",
       "    .dataframe thead th {\n",
       "        text-align: left;\n",
       "    }\n",
       "\n",
       "    .dataframe tbody tr th {\n",
       "        vertical-align: top;\n",
       "    }\n",
       "</style>\n",
       "<table border=\"1\" class=\"dataframe\">\n",
       "  <thead>\n",
       "    <tr style=\"text-align: right;\">\n",
       "      <th></th>\n",
       "      <th>k1</th>\n",
       "      <th>k2</th>\n",
       "      <th>k3</th>\n",
       "      <th>k5</th>\n",
       "      <th>k7</th>\n",
       "      <th>k9</th>\n",
       "      <th>k11</th>\n",
       "      <th>k13</th>\n",
       "      <th>k15</th>\n",
       "    </tr>\n",
       "  </thead>\n",
       "  <tbody>\n",
       "    <tr>\n",
       "      <th>0</th>\n",
       "      <td>0.838462</td>\n",
       "      <td>0.838462</td>\n",
       "      <td>0.869231</td>\n",
       "      <td>0.876923</td>\n",
       "      <td>0.884615</td>\n",
       "      <td>0.884615</td>\n",
       "      <td>0.884615</td>\n",
       "      <td>0.884615</td>\n",
       "      <td>0.884615</td>\n",
       "    </tr>\n",
       "  </tbody>\n",
       "</table>\n",
       "</div>"
      ],
      "text/plain": [
       "         k1        k2        k3        k5        k7        k9       k11  \\\n",
       "0  0.838462  0.838462  0.869231  0.876923  0.884615  0.884615  0.884615   \n",
       "\n",
       "        k13       k15  \n",
       "0  0.884615  0.884615  "
      ]
     },
     "execution_count": 305,
     "metadata": {},
     "output_type": "execute_result"
    }
   ],
   "source": [
    "dataretrieveWeight = calculateScores(dataretrieve, 1, 0, dataretrievelist)\n",
    "dataretrieveWeightDF = pd.DataFrame([dataretrieveWeight[0]], columns = ([\"k1\", \"k2\", \"k3\", \"k5\", \"k7\", \"k9\", \"k11\", \"k13\", \"k15\"]))\n",
    "dataretrieveWeightDF.to_csv(\"..//results/q1/dataretrieveWeight.csv\", index=False)\n",
    "print(dataretrieveWeight[1])\n",
    "dataretrieveWeightDF"
   ]
  },
  {
   "cell_type": "code",
   "execution_count": 312,
   "metadata": {},
   "outputs": [
    {
     "data": {
      "image/png": "[encoded data removed]",
      "text/plain": [
       "<matplotlib.figure.Figure at 0x11dc9cb38>"
      ]
     },
     "metadata": {},
     "output_type": "display_data"
    }
   ],
   "source": [
    "plt.ylim((0.6,1))\n",
    "ax = sns.barplot(x=dataretrieveWeightDF.T.index, y=dataretrieveWeightDF.T[0], color = sns.xkcd_rgb['light blue'])\n",
    "ax.set(xlabel='k')\n",
    "ax.set(ylabel='% acerto')\n",
    "for p in ax.patches:\n",
    "    ax.annotate(np.round(p.get_height(), decimals=4), (p.get_x(), p.get_height()+0.01))\n",
    "plt.savefig(\"..//results/q1/dataretrieveWeight.jpg\")\n",
    "plt.show()"
   ]
  },
  {
   "cell_type": "code",
   "execution_count": 152,
   "metadata": {},
   "outputs": [
    {
     "name": "stdout",
     "output_type": "stream",
     "text": [
      "3.1671369075775146\n"
     ]
    },
    {
     "data": {
      "text/html": [
       "<div>\n",
       "<style>\n",
       "    .dataframe thead tr:only-child th {\n",
       "        text-align: right;\n",
       "    }\n",
       "\n",
       "    .dataframe thead th {\n",
       "        text-align: left;\n",
       "    }\n",
       "\n",
       "    .dataframe tbody tr th {\n",
       "        vertical-align: top;\n",
       "    }\n",
       "</style>\n",
       "<table border=\"1\" class=\"dataframe\">\n",
       "  <thead>\n",
       "    <tr style=\"text-align: right;\">\n",
       "      <th></th>\n",
       "      <th>k1</th>\n",
       "      <th>k2</th>\n",
       "      <th>k3</th>\n",
       "      <th>k5</th>\n",
       "      <th>k7</th>\n",
       "      <th>k9</th>\n",
       "      <th>k11</th>\n",
       "      <th>k13</th>\n",
       "      <th>k15</th>\n",
       "    </tr>\n",
       "  </thead>\n",
       "  <tbody>\n",
       "    <tr>\n",
       "      <th>0</th>\n",
       "      <td>0.530864</td>\n",
       "      <td>0.530864</td>\n",
       "      <td>0.555556</td>\n",
       "      <td>0.518519</td>\n",
       "      <td>0.493827</td>\n",
       "      <td>0.444444</td>\n",
       "      <td>0.493827</td>\n",
       "      <td>0.518519</td>\n",
       "      <td>0.54321</td>\n",
       "    </tr>\n",
       "  </tbody>\n",
       "</table>\n",
       "</div>"
      ],
      "text/plain": [
       "         k1        k2        k3        k5        k7        k9       k11  \\\n",
       "0  0.530864  0.530864  0.555556  0.518519  0.493827  0.444444  0.493827   \n",
       "\n",
       "        k13      k15  \n",
       "0  0.518519  0.54321  "
      ]
     },
     "execution_count": 152,
     "metadata": {},
     "output_type": "execute_result"
    }
   ],
   "source": [
    "desharnaisNoWeight = calculateScores(desharnais, 0, 0, desharnaislist)\n",
    "desharnaisNoWeightDF = pd.DataFrame([desharnaisNoWeight[0]], columns = ([\"k1\", \"k2\", \"k3\", \"k5\", \"k7\", \"k9\", \"k11\", \"k13\", \"k15\"]))\n",
    "desharnaisNoWeightDF.to_csv(\"..//results/q1/desharnaisNoWeight.csv\", index=False)\n",
    "print(desharnaisNoWeight[1])\n",
    "desharnaisNoWeightDF"
   ]
  },
  {
   "cell_type": "code",
   "execution_count": 314,
   "metadata": {},
   "outputs": [
    {
     "data": {
      "image/png": "[encoded data removed]",
      "text/plain": [
       "<matplotlib.figure.Figure at 0x115b31c50>"
      ]
     },
     "metadata": {},
     "output_type": "display_data"
    }
   ],
   "source": [
    "plt.ylim((0.4,0.6))\n",
    "ax = sns.barplot(x=desharnaisNoWeightDF.T.index, y=desharnaisNoWeightDF.T[0], color = sns.xkcd_rgb['light blue'])\n",
    "ax.set(xlabel='k')\n",
    "ax.set(ylabel='% acerto')\n",
    "for p in ax.patches:\n",
    "    ax.annotate(np.round(p.get_height(), decimals=4), (p.get_x(), p.get_height()+0.01))\n",
    "plt.savefig(\"..//results/q1/desharnaisNoWeight.jpg\")\n",
    "plt.show()"
   ]
  },
  {
   "cell_type": "code",
   "execution_count": 153,
   "metadata": {},
   "outputs": [
    {
     "name": "stdout",
     "output_type": "stream",
     "text": [
      "3.1016440391540527\n"
     ]
    },
    {
     "data": {
      "text/html": [
       "<div>\n",
       "<style>\n",
       "    .dataframe thead tr:only-child th {\n",
       "        text-align: right;\n",
       "    }\n",
       "\n",
       "    .dataframe thead th {\n",
       "        text-align: left;\n",
       "    }\n",
       "\n",
       "    .dataframe tbody tr th {\n",
       "        vertical-align: top;\n",
       "    }\n",
       "</style>\n",
       "<table border=\"1\" class=\"dataframe\">\n",
       "  <thead>\n",
       "    <tr style=\"text-align: right;\">\n",
       "      <th></th>\n",
       "      <th>k1</th>\n",
       "      <th>k2</th>\n",
       "      <th>k3</th>\n",
       "      <th>k5</th>\n",
       "      <th>k7</th>\n",
       "      <th>k9</th>\n",
       "      <th>k11</th>\n",
       "      <th>k13</th>\n",
       "      <th>k15</th>\n",
       "    </tr>\n",
       "  </thead>\n",
       "  <tbody>\n",
       "    <tr>\n",
       "      <th>0</th>\n",
       "      <td>0.530864</td>\n",
       "      <td>0.530864</td>\n",
       "      <td>0.518519</td>\n",
       "      <td>0.518519</td>\n",
       "      <td>0.530864</td>\n",
       "      <td>0.530864</td>\n",
       "      <td>0.54321</td>\n",
       "      <td>0.518519</td>\n",
       "      <td>0.518519</td>\n",
       "    </tr>\n",
       "  </tbody>\n",
       "</table>\n",
       "</div>"
      ],
      "text/plain": [
       "         k1        k2        k3        k5        k7        k9      k11  \\\n",
       "0  0.530864  0.530864  0.518519  0.518519  0.530864  0.530864  0.54321   \n",
       "\n",
       "        k13       k15  \n",
       "0  0.518519  0.518519  "
      ]
     },
     "execution_count": 153,
     "metadata": {},
     "output_type": "execute_result"
    }
   ],
   "source": [
    "desharnaisWeight = calculateScores(desharnais, 1, 0, desharnaislist)\n",
    "desharnaisWeightDF = pd.DataFrame([desharnaisWeight[0]], columns = ([\"k1\", \"k2\", \"k3\", \"k5\", \"k7\", \"k9\", \"k11\", \"k13\", \"k15\"]))\n",
    "desharnaisWeightDF.to_csv(\"..//results/q1/desharnaisWeight.csv\", index=False)\n",
    "print(desharnaisWeight[1])\n",
    "desharnaisWeightDF"
   ]
  },
  {
   "cell_type": "code",
   "execution_count": 315,
   "metadata": {},
   "outputs": [
    {
     "data": {
      "image/png": "[encoded data removed]",
      "text/plain": [
       "<matplotlib.figure.Figure at 0x11dc9c860>"
      ]
     },
     "metadata": {},
     "output_type": "display_data"
    }
   ],
   "source": [
    "plt.ylim((0.4,0.6))\n",
    "ax = sns.barplot(x=desharnaisWeightDF.T.index, y=desharnaisWeightDF.T[0], color = sns.xkcd_rgb['light blue'])\n",
    "ax.set(xlabel='k')\n",
    "ax.set(ylabel='% acerto')\n",
    "for p in ax.patches:\n",
    "    ax.annotate(np.round(p.get_height(), decimals=4), (p.get_x(), p.get_height()+0.01))\n",
    "plt.savefig(\"..//results/q1/desharnaisWeight.jpg\")\n",
    "plt.show()"
   ]
  },
  {
   "cell_type": "markdown",
   "metadata": {},
   "source": [
    "# Questão 2"
   ]
  },
  {
   "cell_type": "code",
   "execution_count": 154,
   "metadata": {},
   "outputs": [
    {
     "name": "stdout",
     "output_type": "stream",
     "text": [
      "0.3591141700744629\n"
     ]
    },
    {
     "data": {
      "text/html": [
       "<div>\n",
       "<style>\n",
       "    .dataframe thead tr:only-child th {\n",
       "        text-align: right;\n",
       "    }\n",
       "\n",
       "    .dataframe thead th {\n",
       "        text-align: left;\n",
       "    }\n",
       "\n",
       "    .dataframe tbody tr th {\n",
       "        vertical-align: top;\n",
       "    }\n",
       "</style>\n",
       "<table border=\"1\" class=\"dataframe\">\n",
       "  <thead>\n",
       "    <tr style=\"text-align: right;\">\n",
       "      <th></th>\n",
       "      <th>k1</th>\n",
       "      <th>k2</th>\n",
       "      <th>k3</th>\n",
       "      <th>k5</th>\n",
       "      <th>k7</th>\n",
       "      <th>k9</th>\n",
       "      <th>k11</th>\n",
       "      <th>k13</th>\n",
       "      <th>k15</th>\n",
       "    </tr>\n",
       "  </thead>\n",
       "  <tbody>\n",
       "    <tr>\n",
       "      <th>0</th>\n",
       "      <td>0.375</td>\n",
       "      <td>0.375</td>\n",
       "      <td>0.5</td>\n",
       "      <td>0.458333</td>\n",
       "      <td>0.625</td>\n",
       "      <td>0.583333</td>\n",
       "      <td>0.583333</td>\n",
       "      <td>0.583333</td>\n",
       "      <td>0.625</td>\n",
       "    </tr>\n",
       "  </tbody>\n",
       "</table>\n",
       "</div>"
      ],
      "text/plain": [
       "      k1     k2   k3        k5     k7        k9       k11       k13    k15\n",
       "0  0.375  0.375  0.5  0.458333  0.625  0.583333  0.583333  0.583333  0.625"
      ]
     },
     "execution_count": 154,
     "metadata": {},
     "output_type": "execute_result"
    }
   ],
   "source": [
    "lensesNoWeight = calculateScores(lenses, 0, 1, lenseslist)\n",
    "lensesNoWeightDF = pd.DataFrame([lensesNoWeight[0]], columns = ([\"k1\", \"k2\", \"k3\", \"k5\", \"k7\", \"k9\", \"k11\", \"k13\", \"k15\"]))\n",
    "lensesNoWeightDF.to_csv(\"..//results/q2/lensesNoWeight.csv\", index=False)\n",
    "print(lensesNoWeight[1])\n",
    "lensesNoWeightDF"
   ]
  },
  {
   "cell_type": "code",
   "execution_count": 318,
   "metadata": {},
   "outputs": [
    {
     "data": {
      "image/png": "[encoded data removed]",
      "text/plain": [
       "<matplotlib.figure.Figure at 0x11d7306d8>"
      ]
     },
     "metadata": {},
     "output_type": "display_data"
    }
   ],
   "source": [
    "plt.ylim((0.3,0.7))\n",
    "ax = sns.barplot(x=lensesNoWeightDF.T.index, y=lensesNoWeightDF.T[0], color = sns.xkcd_rgb['light blue'])\n",
    "ax.set(xlabel='k')\n",
    "ax.set(ylabel='% acerto')\n",
    "for p in ax.patches:\n",
    "    ax.annotate(np.round(p.get_height(), decimals=4), (p.get_x(), p.get_height()+0.01))\n",
    "plt.savefig(\"..//results/q2/lensesNoWeight.jpg\")\n",
    "plt.show()"
   ]
  },
  {
   "cell_type": "code",
   "execution_count": 319,
   "metadata": {},
   "outputs": [
    {
     "name": "stdout",
     "output_type": "stream",
     "text": [
      "0.38109326362609863\n"
     ]
    },
    {
     "data": {
      "text/html": [
       "<div>\n",
       "<style>\n",
       "    .dataframe thead tr:only-child th {\n",
       "        text-align: right;\n",
       "    }\n",
       "\n",
       "    .dataframe thead th {\n",
       "        text-align: left;\n",
       "    }\n",
       "\n",
       "    .dataframe tbody tr th {\n",
       "        vertical-align: top;\n",
       "    }\n",
       "</style>\n",
       "<table border=\"1\" class=\"dataframe\">\n",
       "  <thead>\n",
       "    <tr style=\"text-align: right;\">\n",
       "      <th></th>\n",
       "      <th>k1</th>\n",
       "      <th>k2</th>\n",
       "      <th>k3</th>\n",
       "      <th>k5</th>\n",
       "      <th>k7</th>\n",
       "      <th>k9</th>\n",
       "      <th>k11</th>\n",
       "      <th>k13</th>\n",
       "      <th>k15</th>\n",
       "    </tr>\n",
       "  </thead>\n",
       "  <tbody>\n",
       "    <tr>\n",
       "      <th>0</th>\n",
       "      <td>0.375</td>\n",
       "      <td>0.375</td>\n",
       "      <td>0.458333</td>\n",
       "      <td>0.458333</td>\n",
       "      <td>0.583333</td>\n",
       "      <td>0.583333</td>\n",
       "      <td>0.583333</td>\n",
       "      <td>0.583333</td>\n",
       "      <td>0.583333</td>\n",
       "    </tr>\n",
       "  </tbody>\n",
       "</table>\n",
       "</div>"
      ],
      "text/plain": [
       "      k1     k2        k3        k5        k7        k9       k11       k13  \\\n",
       "0  0.375  0.375  0.458333  0.458333  0.583333  0.583333  0.583333  0.583333   \n",
       "\n",
       "        k15  \n",
       "0  0.583333  "
      ]
     },
     "execution_count": 319,
     "metadata": {},
     "output_type": "execute_result"
    }
   ],
   "source": [
    "lensesWeight = calculateScores(lenses, 1, 1, carlist)\n",
    "lensesWeightDF = pd.DataFrame([lensesWeight[0]], columns = ([\"k1\", \"k2\", \"k3\", \"k5\", \"k7\", \"k9\", \"k11\", \"k13\", \"k15\"]))\n",
    "lensesWeightDF.to_csv(\"..//results/q2/lensesWeight.csv\", index=False)\n",
    "print(lensesWeight[1])\n",
    "lensesWeightDF"
   ]
  },
  {
   "cell_type": "code",
   "execution_count": 320,
   "metadata": {},
   "outputs": [
    {
     "data": {
      "image/png": "[encoded data removed]",
      "text/plain": [
       "<matplotlib.figure.Figure at 0x11c6f29e8>"
      ]
     },
     "metadata": {},
     "output_type": "display_data"
    }
   ],
   "source": [
    "plt.ylim((0.3,0.7))\n",
    "ax = sns.barplot(x=lensesWeightDF.T.index, y=lensesWeightDF.T[0], color = sns.xkcd_rgb['light blue'])\n",
    "ax.set(xlabel='k')\n",
    "ax.set(ylabel='% acerto')\n",
    "for p in ax.patches:\n",
    "    ax.annotate(np.round(p.get_height(), decimals=4), (p.get_x(), p.get_height()+0.01))\n",
    "plt.savefig(\"..//results/q2/lensesWeight.jpg\")\n",
    "plt.show()"
   ]
  },
  {
   "cell_type": "code",
   "execution_count": 156,
   "metadata": {},
   "outputs": [
    {
     "name": "stdout",
     "output_type": "stream",
     "text": [
      "25.5379319190979\n"
     ]
    },
    {
     "data": {
      "text/html": [
       "<div>\n",
       "<style>\n",
       "    .dataframe thead tr:only-child th {\n",
       "        text-align: right;\n",
       "    }\n",
       "\n",
       "    .dataframe thead th {\n",
       "        text-align: left;\n",
       "    }\n",
       "\n",
       "    .dataframe tbody tr th {\n",
       "        vertical-align: top;\n",
       "    }\n",
       "</style>\n",
       "<table border=\"1\" class=\"dataframe\">\n",
       "  <thead>\n",
       "    <tr style=\"text-align: right;\">\n",
       "      <th></th>\n",
       "      <th>k1</th>\n",
       "      <th>k2</th>\n",
       "      <th>k3</th>\n",
       "      <th>k5</th>\n",
       "      <th>k7</th>\n",
       "      <th>k9</th>\n",
       "      <th>k11</th>\n",
       "      <th>k13</th>\n",
       "      <th>k15</th>\n",
       "    </tr>\n",
       "  </thead>\n",
       "  <tbody>\n",
       "    <tr>\n",
       "      <th>0</th>\n",
       "      <td>0.621212</td>\n",
       "      <td>0.621212</td>\n",
       "      <td>0.590909</td>\n",
       "      <td>0.575758</td>\n",
       "      <td>0.522727</td>\n",
       "      <td>0.439394</td>\n",
       "      <td>0.462121</td>\n",
       "      <td>0.469697</td>\n",
       "      <td>0.492424</td>\n",
       "    </tr>\n",
       "  </tbody>\n",
       "</table>\n",
       "</div>"
      ],
      "text/plain": [
       "         k1        k2        k3        k5        k7        k9       k11  \\\n",
       "0  0.621212  0.621212  0.590909  0.575758  0.522727  0.439394  0.462121   \n",
       "\n",
       "        k13       k15  \n",
       "0  0.469697  0.492424  "
      ]
     },
     "execution_count": 156,
     "metadata": {},
     "output_type": "execute_result"
    }
   ],
   "source": [
    "hayesRothNoWeight = calculateScores(hayesRoth, 0, 1, hayesRothlist)\n",
    "hayesRothNoWeightDF = pd.DataFrame([hayesRothNoWeight[0]], columns = ([\"k1\", \"k2\", \"k3\", \"k5\", \"k7\", \"k9\", \"k11\", \"k13\", \"k15\"]))\n",
    "hayesRothNoWeightDF.to_csv(\"..//results/q2/hayesRothNoWeight.csv\", index=False)\n",
    "print(hayesRothNoWeight[1])\n",
    "hayesRothNoWeightDF"
   ]
  },
  {
   "cell_type": "code",
   "execution_count": 322,
   "metadata": {},
   "outputs": [
    {
     "data": {
      "image/png": "[encoded data removed]",
      "text/plain": [
       "<matplotlib.figure.Figure at 0x11dd83e48>"
      ]
     },
     "metadata": {},
     "output_type": "display_data"
    }
   ],
   "source": [
    "plt.ylim((0.4,0.7))\n",
    "ax = sns.barplot(x=hayesRothNoWeightDF.T.index, y=hayesRothNoWeightDF.T[0], color = sns.xkcd_rgb['light blue'])\n",
    "ax.set(xlabel='k')\n",
    "ax.set(ylabel='% acerto')\n",
    "for p in ax.patches:\n",
    "    ax.annotate(np.round(p.get_height(), decimals=4), (p.get_x(), p.get_height()+0.01))\n",
    "plt.savefig(\"..//results/q2/hayesRothNoWeight.jpg\")\n",
    "plt.show()"
   ]
  },
  {
   "cell_type": "code",
   "execution_count": 157,
   "metadata": {},
   "outputs": [
    {
     "name": "stdout",
     "output_type": "stream",
     "text": [
      "23.696252822875977\n"
     ]
    },
    {
     "data": {
      "text/html": [
       "<div>\n",
       "<style>\n",
       "    .dataframe thead tr:only-child th {\n",
       "        text-align: right;\n",
       "    }\n",
       "\n",
       "    .dataframe thead th {\n",
       "        text-align: left;\n",
       "    }\n",
       "\n",
       "    .dataframe tbody tr th {\n",
       "        vertical-align: top;\n",
       "    }\n",
       "</style>\n",
       "<table border=\"1\" class=\"dataframe\">\n",
       "  <thead>\n",
       "    <tr style=\"text-align: right;\">\n",
       "      <th></th>\n",
       "      <th>k1</th>\n",
       "      <th>k2</th>\n",
       "      <th>k3</th>\n",
       "      <th>k5</th>\n",
       "      <th>k7</th>\n",
       "      <th>k9</th>\n",
       "      <th>k11</th>\n",
       "      <th>k13</th>\n",
       "      <th>k15</th>\n",
       "    </tr>\n",
       "  </thead>\n",
       "  <tbody>\n",
       "    <tr>\n",
       "      <th>0</th>\n",
       "      <td>0.621212</td>\n",
       "      <td>0.621212</td>\n",
       "      <td>0.621212</td>\n",
       "      <td>0.598485</td>\n",
       "      <td>0.575758</td>\n",
       "      <td>0.575758</td>\n",
       "      <td>0.590909</td>\n",
       "      <td>0.575758</td>\n",
       "      <td>0.568182</td>\n",
       "    </tr>\n",
       "  </tbody>\n",
       "</table>\n",
       "</div>"
      ],
      "text/plain": [
       "         k1        k2        k3        k5        k7        k9       k11  \\\n",
       "0  0.621212  0.621212  0.621212  0.598485  0.575758  0.575758  0.590909   \n",
       "\n",
       "        k13       k15  \n",
       "0  0.575758  0.568182  "
      ]
     },
     "execution_count": 157,
     "metadata": {},
     "output_type": "execute_result"
    }
   ],
   "source": [
    "hayesRothWeight = calculateScores(hayesRoth, 1, 1, hayesRothlist)\n",
    "hayesRothWeightDF = pd.DataFrame([hayesRothWeight[0]], columns = ([\"k1\", \"k2\", \"k3\", \"k5\", \"k7\", \"k9\", \"k11\", \"k13\", \"k15\"]))\n",
    "hayesRothWeightDF.to_csv(\"..//results/q2/hayesRothWeight.csv\", index=False)\n",
    "print(hayesRothWeight[1])\n",
    "hayesRothWeightDF"
   ]
  },
  {
   "cell_type": "code",
   "execution_count": 327,
   "metadata": {},
   "outputs": [
    {
     "data": {
      "image/png": "[encoded data removed]",
      "text/plain": [
       "<matplotlib.figure.Figure at 0x11d761748>"
      ]
     },
     "metadata": {},
     "output_type": "display_data"
    }
   ],
   "source": [
    "plt.ylim((0.4,0.7))\n",
    "ax = sns.barplot(x=hayesRothWeightDF.T.index, y=hayesRothWeightDF.T[0], color = sns.xkcd_rgb['light blue'])\n",
    "ax.set(xlabel='k')\n",
    "ax.set(ylabel='% acerto')\n",
    "for p in ax.patches:\n",
    "    ax.annotate(np.round(p.get_height(), decimals=4), (p.get_x(), p.get_height()+0.01))\n",
    "plt.savefig(\"..//results/q2/hayesRothWeight.jpg\")\n",
    "plt.show()"
   ]
  },
  {
   "cell_type": "markdown",
   "metadata": {},
   "source": [
    "# Questão 3"
   ]
  },
  {
   "cell_type": "code",
   "execution_count": 158,
   "metadata": {},
   "outputs": [
    {
     "name": "stdout",
     "output_type": "stream",
     "text": [
      "31.830175161361694\n"
     ]
    },
    {
     "data": {
      "text/html": [
       "<div>\n",
       "<style>\n",
       "    .dataframe thead tr:only-child th {\n",
       "        text-align: right;\n",
       "    }\n",
       "\n",
       "    .dataframe thead th {\n",
       "        text-align: left;\n",
       "    }\n",
       "\n",
       "    .dataframe tbody tr th {\n",
       "        vertical-align: top;\n",
       "    }\n",
       "</style>\n",
       "<table border=\"1\" class=\"dataframe\">\n",
       "  <thead>\n",
       "    <tr style=\"text-align: right;\">\n",
       "      <th></th>\n",
       "      <th>k1</th>\n",
       "      <th>k2</th>\n",
       "      <th>k3</th>\n",
       "      <th>k5</th>\n",
       "      <th>k7</th>\n",
       "      <th>k9</th>\n",
       "      <th>k11</th>\n",
       "      <th>k13</th>\n",
       "      <th>k15</th>\n",
       "    </tr>\n",
       "  </thead>\n",
       "  <tbody>\n",
       "    <tr>\n",
       "      <th>0</th>\n",
       "      <td>0.615894</td>\n",
       "      <td>0.615894</td>\n",
       "      <td>0.410596</td>\n",
       "      <td>0.476821</td>\n",
       "      <td>0.437086</td>\n",
       "      <td>0.423841</td>\n",
       "      <td>0.417219</td>\n",
       "      <td>0.410596</td>\n",
       "      <td>0.417219</td>\n",
       "    </tr>\n",
       "  </tbody>\n",
       "</table>\n",
       "</div>"
      ],
      "text/plain": [
       "         k1        k2        k3        k5        k7        k9       k11  \\\n",
       "0  0.615894  0.615894  0.410596  0.476821  0.437086  0.423841  0.417219   \n",
       "\n",
       "        k13       k15  \n",
       "0  0.410596  0.417219  "
      ]
     },
     "execution_count": 158,
     "metadata": {},
     "output_type": "execute_result"
    }
   ],
   "source": [
    "taeNoWeight = calculateScores(tae, 0, 2, taelist)\n",
    "taeNoWeightDF = pd.DataFrame([taeNoWeight[0]], columns = ([\"k1\", \"k2\", \"k3\", \"k5\", \"k7\", \"k9\", \"k11\", \"k13\", \"k15\"]))\n",
    "taeNoWeightDF.to_csv(\"..//results/q3/taeNoWeight.csv\", index=False)\n",
    "print(taeNoWeight[1])\n",
    "taeNoWeightDF"
   ]
  },
  {
   "cell_type": "code",
   "execution_count": 333,
   "metadata": {},
   "outputs": [
    {
     "data": {
      "image/png": "[encoded data removed]",
      "text/plain": [
       "<matplotlib.figure.Figure at 0x11c24e7f0>"
      ]
     },
     "metadata": {},
     "output_type": "display_data"
    }
   ],
   "source": [
    "plt.ylim((0.3,0.7))\n",
    "ax = sns.barplot(x=taeNoWeightDF.T.index, y=taeNoWeightDF.T[0], color = sns.xkcd_rgb['light blue'])\n",
    "ax.set(xlabel='k')\n",
    "ax.set(ylabel='% acerto')\n",
    "for p in ax.patches:\n",
    "    ax.annotate(np.round(p.get_height(), decimals=4), (p.get_x(), p.get_height()+0.01))\n",
    "plt.savefig(\"..//results/q3/taeNoWeight.jpg\")\n",
    "plt.show()"
   ]
  },
  {
   "cell_type": "code",
   "execution_count": 159,
   "metadata": {},
   "outputs": [
    {
     "name": "stdout",
     "output_type": "stream",
     "text": [
      "29.89485812187195\n"
     ]
    },
    {
     "data": {
      "text/html": [
       "<div>\n",
       "<style>\n",
       "    .dataframe thead tr:only-child th {\n",
       "        text-align: right;\n",
       "    }\n",
       "\n",
       "    .dataframe thead th {\n",
       "        text-align: left;\n",
       "    }\n",
       "\n",
       "    .dataframe tbody tr th {\n",
       "        vertical-align: top;\n",
       "    }\n",
       "</style>\n",
       "<table border=\"1\" class=\"dataframe\">\n",
       "  <thead>\n",
       "    <tr style=\"text-align: right;\">\n",
       "      <th></th>\n",
       "      <th>k1</th>\n",
       "      <th>k2</th>\n",
       "      <th>k3</th>\n",
       "      <th>k5</th>\n",
       "      <th>k7</th>\n",
       "      <th>k9</th>\n",
       "      <th>k11</th>\n",
       "      <th>k13</th>\n",
       "      <th>k15</th>\n",
       "    </tr>\n",
       "  </thead>\n",
       "  <tbody>\n",
       "    <tr>\n",
       "      <th>0</th>\n",
       "      <td>0.615894</td>\n",
       "      <td>0.615894</td>\n",
       "      <td>0.609272</td>\n",
       "      <td>0.589404</td>\n",
       "      <td>0.576159</td>\n",
       "      <td>0.576159</td>\n",
       "      <td>0.569536</td>\n",
       "      <td>0.569536</td>\n",
       "      <td>0.562914</td>\n",
       "    </tr>\n",
       "  </tbody>\n",
       "</table>\n",
       "</div>"
      ],
      "text/plain": [
       "         k1        k2        k3        k5        k7        k9       k11  \\\n",
       "0  0.615894  0.615894  0.609272  0.589404  0.576159  0.576159  0.569536   \n",
       "\n",
       "        k13       k15  \n",
       "0  0.569536  0.562914  "
      ]
     },
     "execution_count": 159,
     "metadata": {},
     "output_type": "execute_result"
    }
   ],
   "source": [
    "taeWeight = calculateScores(tae, 1, 2, taelist)\n",
    "taeWeightDF = pd.DataFrame([taeWeight[0]], columns = ([\"k1\", \"k2\", \"k3\", \"k5\", \"k7\", \"k9\", \"k11\", \"k13\", \"k15\"]))\n",
    "taeWeightDF.to_csv(\"..//results/q3/taeWeight.csv\", index=False)\n",
    "print(taeWeight[1])\n",
    "taeWeightDF"
   ]
  },
  {
   "cell_type": "code",
   "execution_count": 334,
   "metadata": {},
   "outputs": [
    {
     "data": {
      "image/png": "[encoded data removed]",
      "text/plain": [
       "<matplotlib.figure.Figure at 0x11dc77cf8>"
      ]
     },
     "metadata": {},
     "output_type": "display_data"
    }
   ],
   "source": [
    "plt.ylim((0.4,0.7))\n",
    "ax = sns.barplot(x=taeWeightDF.T.index, y=taeWeightDF.T[0], color = sns.xkcd_rgb['light blue'])\n",
    "ax.set(xlabel='k')\n",
    "ax.set(ylabel='% acerto')\n",
    "for p in ax.patches:\n",
    "    ax.annotate(np.round(p.get_height(), decimals=4), (p.get_x(), p.get_height()+0.01))\n",
    "plt.savefig(\"..//results/q3/taeWeight.jpg\")\n",
    "plt.show()"
   ]
  },
  {
   "cell_type": "code",
   "execution_count": 161,
   "metadata": {},
   "outputs": [
    {
     "name": "stdout",
     "output_type": "stream",
     "text": [
      "5.188014984130859\n"
     ]
    },
    {
     "data": {
      "text/html": [
       "<div>\n",
       "<style>\n",
       "    .dataframe thead tr:only-child th {\n",
       "        text-align: right;\n",
       "    }\n",
       "\n",
       "    .dataframe thead th {\n",
       "        text-align: left;\n",
       "    }\n",
       "\n",
       "    .dataframe tbody tr th {\n",
       "        vertical-align: top;\n",
       "    }\n",
       "</style>\n",
       "<table border=\"1\" class=\"dataframe\">\n",
       "  <thead>\n",
       "    <tr style=\"text-align: right;\">\n",
       "      <th></th>\n",
       "      <th>k1</th>\n",
       "      <th>k2</th>\n",
       "      <th>k3</th>\n",
       "      <th>k5</th>\n",
       "      <th>k7</th>\n",
       "      <th>k9</th>\n",
       "      <th>k11</th>\n",
       "      <th>k13</th>\n",
       "      <th>k15</th>\n",
       "    </tr>\n",
       "  </thead>\n",
       "  <tbody>\n",
       "    <tr>\n",
       "      <th>0</th>\n",
       "      <td>0.555556</td>\n",
       "      <td>0.555556</td>\n",
       "      <td>0.566667</td>\n",
       "      <td>0.633333</td>\n",
       "      <td>0.644444</td>\n",
       "      <td>0.655556</td>\n",
       "      <td>0.644444</td>\n",
       "      <td>0.666667</td>\n",
       "      <td>0.688889</td>\n",
       "    </tr>\n",
       "  </tbody>\n",
       "</table>\n",
       "</div>"
      ],
      "text/plain": [
       "         k1        k2        k3        k5        k7        k9       k11  \\\n",
       "0  0.555556  0.555556  0.566667  0.633333  0.644444  0.655556  0.644444   \n",
       "\n",
       "        k13       k15  \n",
       "0  0.666667  0.688889  "
      ]
     },
     "execution_count": 161,
     "metadata": {},
     "output_type": "execute_result"
    }
   ],
   "source": [
    "postOpperativeNoWeight = calculateScores(postOpperative, 0, 2, postOpperativelist)\n",
    "postOpperativeNoWeightDF = pd.DataFrame([postOpperativeNoWeight[0]], columns = ([\"k1\", \"k2\", \"k3\", \"k5\", \"k7\", \"k9\", \"k11\", \"k13\", \"k15\"]))\n",
    "postOpperativeNoWeightDF.to_csv(\"..//results/q3/postOpperativeNoWeight.csv\", index=False)\n",
    "print(postOpperativeNoWeight[1])\n",
    "postOpperativeNoWeightDF"
   ]
  },
  {
   "cell_type": "code",
   "execution_count": 343,
   "metadata": {},
   "outputs": [
    {
     "data": {
      "image/png": "[encoded data removed]",
      "text/plain": [
       "<matplotlib.figure.Figure at 0x115b30b00>"
      ]
     },
     "metadata": {},
     "output_type": "display_data"
    }
   ],
   "source": [
    "plt.ylim((0.5,0.8))\n",
    "ax = sns.barplot(x=postOpperativeNoWeightDF.T.index, y=postOpperativeNoWeightDF.T[0], color = sns.xkcd_rgb['light blue'])\n",
    "ax.set(xlabel='k')\n",
    "ax.set(ylabel='% acerto')\n",
    "for p in ax.patches:\n",
    "    ax.annotate(np.round(p.get_height(), decimals=4), (p.get_x(), p.get_height()+0.01))\n",
    "plt.savefig(\"..//results/q3/postOpperativeNoWeight.jpg\")\n",
    "plt.show()"
   ]
  },
  {
   "cell_type": "code",
   "execution_count": 160,
   "metadata": {},
   "outputs": [
    {
     "name": "stdout",
     "output_type": "stream",
     "text": [
      "5.2664220333099365\n"
     ]
    },
    {
     "data": {
      "text/html": [
       "<div>\n",
       "<style>\n",
       "    .dataframe thead tr:only-child th {\n",
       "        text-align: right;\n",
       "    }\n",
       "\n",
       "    .dataframe thead th {\n",
       "        text-align: left;\n",
       "    }\n",
       "\n",
       "    .dataframe tbody tr th {\n",
       "        vertical-align: top;\n",
       "    }\n",
       "</style>\n",
       "<table border=\"1\" class=\"dataframe\">\n",
       "  <thead>\n",
       "    <tr style=\"text-align: right;\">\n",
       "      <th></th>\n",
       "      <th>k1</th>\n",
       "      <th>k2</th>\n",
       "      <th>k3</th>\n",
       "      <th>k5</th>\n",
       "      <th>k7</th>\n",
       "      <th>k9</th>\n",
       "      <th>k11</th>\n",
       "      <th>k13</th>\n",
       "      <th>k15</th>\n",
       "    </tr>\n",
       "  </thead>\n",
       "  <tbody>\n",
       "    <tr>\n",
       "      <th>0</th>\n",
       "      <td>0.555556</td>\n",
       "      <td>0.555556</td>\n",
       "      <td>0.555556</td>\n",
       "      <td>0.566667</td>\n",
       "      <td>0.555556</td>\n",
       "      <td>0.566667</td>\n",
       "      <td>0.577778</td>\n",
       "      <td>0.566667</td>\n",
       "      <td>0.577778</td>\n",
       "    </tr>\n",
       "  </tbody>\n",
       "</table>\n",
       "</div>"
      ],
      "text/plain": [
       "         k1        k2        k3        k5        k7        k9       k11  \\\n",
       "0  0.555556  0.555556  0.555556  0.566667  0.555556  0.566667  0.577778   \n",
       "\n",
       "        k13       k15  \n",
       "0  0.566667  0.577778  "
      ]
     },
     "execution_count": 160,
     "metadata": {},
     "output_type": "execute_result"
    }
   ],
   "source": [
    "postOpperativeWeight = calculateScores(postOpperative, 1, 2, postOpperativelist)\n",
    "postOpperativeWeightDF = pd.DataFrame([postOpperativeWeight[0]], columns = ([\"k1\", \"k2\", \"k3\", \"k5\", \"k7\", \"k9\", \"k11\", \"k13\", \"k15\"]))\n",
    "postOpperativeWeightDF.to_csv(\"..//results/q3/postOpperativeWeight.csv\", index=False)\n",
    "print(postOpperativeWeight[1])\n",
    "postOpperativeWeightDF"
   ]
  },
  {
   "cell_type": "code",
   "execution_count": 344,
   "metadata": {},
   "outputs": [
    {
     "data": {
      "image/png": "[encoded data removed]",
      "text/plain": [
       "<matplotlib.figure.Figure at 0x11ca80f28>"
      ]
     },
     "metadata": {},
     "output_type": "display_data"
    }
   ],
   "source": [
    "plt.ylim((0.4,0.7))\n",
    "ax = sns.barplot(x=postOpperativeWeightDF.T.index, y=postOpperativeWeightDF.T[0], color = sns.xkcd_rgb['light blue'])\n",
    "ax.set(xlabel='k')\n",
    "ax.set(ylabel='% acerto')\n",
    "for p in ax.patches:\n",
    "    ax.annotate(np.round(p.get_height(), decimals=4), (p.get_x(), p.get_height()+0.01))\n",
    "plt.savefig(\"..//results/q3/postOpperativeWeight.jpg\")\n",
    "plt.show()"
   ]
  },
  {
   "cell_type": "code",
   "execution_count": null,
   "metadata": {
    "collapsed": true
   },
   "outputs": [],
   "source": []
  }
 ],
 "metadata": {
  "kernelspec": {
   "display_name": "Python 3",
   "language": "python",
   "name": "python3"
  },
  "language_info": {
   "codemirror_mode": {
    "name": "ipython",
    "version": 3
   },
   "file_extension": ".py",
   "mimetype": "text/x-python",
   "name": "python",
   "nbconvert_exporter": "python",
   "pygments_lexer": "ipython3",
   "version": "3.6.1"
  }
 },
 "nbformat": 4,
 "nbformat_minor": 2
}
