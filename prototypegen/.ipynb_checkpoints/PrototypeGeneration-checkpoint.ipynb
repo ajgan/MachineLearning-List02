{
 "cells": [
  {
   "cell_type": "markdown",
   "metadata": {},
   "source": [
    "# k-NN\n",
    "### (Implementação usada na lista 01)"
   ]
  },
  {
   "cell_type": "code",
   "execution_count": 1,
   "metadata": {
    "collapsed": true
   },
   "outputs": [],
   "source": [
    "import pandas as pd\n",
    "import numpy as np"
   ]
  },
  {
   "cell_type": "code",
   "execution_count": 2,
   "metadata": {
    "collapsed": true
   },
   "outputs": [],
   "source": [
    "def euclidean(ai, bi):\n",
    "    return ((float(ai) - float(bi)))**2"
   ]
  },
  {
   "cell_type": "code",
   "execution_count": 3,
   "metadata": {
    "collapsed": true
   },
   "outputs": [],
   "source": [
    "def calcDistance(query, instance, weighted):\n",
    "    distance = 0\n",
    "    weight = 1\n",
    "    for i in range(len(instance)-1):\n",
    "        distance = distance + euclidean(query[i],instance[i])\n",
    "    distance = (distance)**0.5\n",
    "    if (weighted == 1):\n",
    "        if (distance==0):\n",
    "            distance = 0.01\n",
    "        weight = 1/(distance**2)\n",
    "    return ((distance, weight))"
   ]
  },
  {
   "cell_type": "code",
   "execution_count": 4,
   "metadata": {
    "collapsed": true
   },
   "outputs": [],
   "source": [
    "def vdm(ai, bi, attributeCount, pos, classList):\n",
    "    nia = 0\n",
    "    nib = 0\n",
    "    vdmResult = 0\n",
    "    for i in range(len(attributeCount)):\n",
    "        if (attributeCount[i][0] == ai and attributeCount[i][2] == pos):\n",
    "            nia = nia + attributeCount[i][3]\n",
    "        if (attributeCount[i][0] == bi and attributeCount[i][2] == pos):\n",
    "            nib = nib + attributeCount[i][3]\n",
    "                   \n",
    "    for j in range(len(classList)):\n",
    "        niac = 0\n",
    "        nibc = 0\n",
    "        for i in range(len(attributeCount)):\n",
    "            if (attributeCount[i][0] == ai and attributeCount[i][1] == classList[j] and attributeCount[i][2] == pos):\n",
    "                niac = niac + attributeCount[i][3]\n",
    "            if (attributeCount[i][0] == ai and attributeCount[i][1] == classList[j] and attributeCount[i][2] == pos):\n",
    "                nibc = nibc + attributeCount[i][3]\n",
    "        \n",
    "        if (nia == 0):\n",
    "            v1 = 0\n",
    "        else:\n",
    "            v1 = niac/nia\n",
    "        \n",
    "        if (nib == 0):\n",
    "            v2 = 0\n",
    "        else:\n",
    "            v2 = nibc/nib\n",
    "        \n",
    "        calc = abs(v1-v2)\n",
    "        vdmResult = vdmResult + calc\n",
    "        \n",
    "    return vdmResult"
   ]
  },
  {
   "cell_type": "code",
   "execution_count": 5,
   "metadata": {
    "collapsed": true
   },
   "outputs": [],
   "source": [
    "def calcVDM(query, instance, weighted, attributeCount, classList):\n",
    "    distance = 0\n",
    "    weight = 1\n",
    "    for i in range(len(query)):\n",
    "        distance = distance + vdm(query[i], instance[i], attributeCount, i, classList)\n",
    "    \n",
    "    distance = (distance)**0.5\n",
    "    \n",
    "    if (weighted == 1):\n",
    "        if (distance==0):\n",
    "            distance = 0.01\n",
    "        weight = 1/(distance**2)\n",
    "    \n",
    "    return ((distance, weight))"
   ]
  },
  {
   "cell_type": "code",
   "execution_count": 6,
   "metadata": {
    "collapsed": true
   },
   "outputs": [],
   "source": [
    "def calcHVDM(query, instance, weighted, attributeCount, classList, typeList):\n",
    "    distance = 0\n",
    "    weight = 1\n",
    "    for i in range(len(query)):\n",
    "        if (typeList[i] == 'num'):\n",
    "            distance = distance + ((euclidean(query[i], instance[i]))**2)\n",
    "        elif (typeList[i] == 'cat'):\n",
    "            distance = distance + ((vdm(query[i], instance[i], attributeCount, i, classList))**2)\n",
    "    \n",
    "    distance = (distance)**0.5\n",
    "    \n",
    "    if (weighted == 1):\n",
    "        if(distance==0):\n",
    "            distance = 0.01\n",
    "        weight = 1/(distance**2)\n",
    "    \n",
    "    return ((distance, weight))"
   ]
  },
  {
   "cell_type": "code",
   "execution_count": 7,
   "metadata": {
    "collapsed": true
   },
   "outputs": [],
   "source": [
    "def getNeighbors(distances, n):\n",
    "    classes = []\n",
    "    classList = []\n",
    "    for i in range(n):\n",
    "        myClass = distances[i][0][-1]\n",
    "        myWeight = distances[i][2]\n",
    "        if (myClass not in classList):\n",
    "            classes.append((myClass, myWeight))\n",
    "            classList.append(myClass)\n",
    "        else:\n",
    "            for j in range(len(classes)):\n",
    "                if (myClass == classes[j][0]):\n",
    "                    classes[j] = list(classes[j])\n",
    "                    classes[j][1] = classes[j][1] + myWeight\n",
    "                    break\n",
    "    \n",
    "    classes.sort(key=lambda x: x[1], reverse=True)\n",
    "    return classes[0][0]"
   ]
  },
  {
   "cell_type": "code",
   "execution_count": 8,
   "metadata": {
    "collapsed": true
   },
   "outputs": [],
   "source": [
    "def knn (query, data, weighted, dataType, typeList):\n",
    "    # k = testInstance\n",
    "    # \n",
    "    #dataType 0 = numérico, 1 = categorico, 2 = heterogeneo\n",
    "    distances = []\n",
    "    classes = []\n",
    "    \n",
    "    attributeCount = []\n",
    "    \n",
    "    classColumn = [row[-1] for row in data]\n",
    "    classList = []\n",
    "    \n",
    "    for i in range(len(classColumn)):\n",
    "        if (classColumn[i] not in classList):\n",
    "            classList.append(classColumn[i])\n",
    "    \n",
    "    for i in range(len(data[0])-1):\n",
    "        for j in range(len(data)):\n",
    "            flag = 0\n",
    "            for k in range(len(attributeCount)):\n",
    "                if (data[j][i]==attributeCount[k][0] and data[j][-1]==attributeCount[k][1] and i == attributeCount[k][2]):\n",
    "                    attributeCount[k][3] = attributeCount[k][3] + 1\n",
    "                    flag = 1\n",
    "                \n",
    "            if(flag == 0):\n",
    "                attributeCount.append([data[j][i], data[j][-1], i, 1])\n",
    "            \n",
    "            #if (data[j][i] not in attr):\n",
    "             #   if (len(attr)==0):\n",
    "              #      attributeCount.append([data[j][i], data[j][-1], 1])\n",
    "               # else:\n",
    "                #    for k in range(len(attributeCount)):\n",
    "                 #       if (data[j][i]==attributeCount[k][0] and data[j][-1]==attributeCount[k][1]):\n",
    "                  #          attributeCount[k][2] = attributeCount[k][2] + 1\n",
    "                #attr.append([data[j][i], data[j][-1]])\n",
    "\n",
    "    #euclidean\n",
    "    if (dataType == 0):\n",
    "        for i in range(len(data)):\n",
    "            distance = calcDistance(query, data[i], weighted)\n",
    "            distances.append((data[i], distance[0], distance[1]))\n",
    "        distances.sort(key=lambda x: x[0], reverse=True)\n",
    "        distances.sort(key=lambda x: x[1], reverse=False)\n",
    "    #vdm\n",
    "    elif (dataType == 1):\n",
    "        for i in range(len(data)):\n",
    "            distance = calcVDM(query, data[i], weighted, attributeCount, classList)\n",
    "            distances.append((data[i], distance[0], distance[1]))\n",
    "        distances.sort(key=lambda x: x[0], reverse=True)\n",
    "        distances.sort(key=lambda x: x[1], reverse=False)\n",
    "    \n",
    "    #hvdm\n",
    "    elif (dataType == 2):\n",
    "        for i in range(len(data)):\n",
    "            distance = calcHVDM(query, data[i], weighted, attributeCount, classList, typeList)\n",
    "            distances.append((data[i], distance[0], distance[1]))\n",
    "        distances.sort(key=lambda x: x[0], reverse=True)\n",
    "        distances.sort(key=lambda x: x[1], reverse=False)\n",
    "    \n",
    "    return distances"
   ]
  },
  {
   "cell_type": "markdown",
   "metadata": {},
   "source": [
    "# LVQ1"
   ]
  },
  {
   "cell_type": "code",
   "execution_count": 9,
   "metadata": {
    "collapsed": true
   },
   "outputs": [],
   "source": [
    "#criar X protótipos aleatórios(pelo menos 1 de cada classe)\n",
    "#varrer o dataset aleatoriamente N vezes\n",
    "    # achar o protótipo m mais próximo da instância x\n",
    "    # ajustar posição do protótipo m pela regra m' = m + w(t)*[pos(x)-pos(m)]\n",
    "        # w(t) 0.5 -> 0.01\n",
    "        \n",
    "#rodar knn no dataset dos protótipos"
   ]
  },
  {
   "cell_type": "code",
   "execution_count": 10,
   "metadata": {
    "collapsed": true
   },
   "outputs": [],
   "source": [
    "def createPrototypes(n, dataset, classes, mySeed):\n",
    "    prototypes = []\n",
    "    random.seed(mySeed)\n",
    "    for i in range(len(classes)):\n",
    "        myProt = []\n",
    "        for j in range(len(dataset.T)-1):\n",
    "            myMax = dataset.max()[j]\n",
    "            myMin = dataset.min()[j]\n",
    "            value = random.randint(myMin,myMax)\n",
    "            myProt.append(value)\n",
    "        myProt.append(classes[i])\n",
    "        prototypes.append(myProt)\n",
    "    \n",
    "    for i in range(n - len(classes)):\n",
    "        myProt = []\n",
    "        for j in range(len(dataset.T)-1):\n",
    "            myMax = dataset.max()[j]\n",
    "            myMin = dataset.min()[j]\n",
    "            value = random.randint(myMin,myMax)\n",
    "            myProt.append(value)\n",
    "        myClass = random.randint(0,(len(classes)-1))\n",
    "        myProt.append(classes[myClass])\n",
    "        prototypes.append(myProt)\n",
    "    \n",
    "    return prototypes"
   ]
  },
  {
   "cell_type": "code",
   "execution_count": 11,
   "metadata": {
    "collapsed": true
   },
   "outputs": [],
   "source": [
    "def protDists(instance, prototypes):\n",
    "    distances = []\n",
    "    for i in range(len(prototypes)):\n",
    "        dist = calcDistance(instance,prototypes[i],0)\n",
    "        distances.append([dist[0], i])\n",
    "    distances.sort(key=lambda x: x[0], reverse=False)\n",
    "    return distances"
   ]
  },
  {
   "cell_type": "code",
   "execution_count": 12,
   "metadata": {
    "collapsed": true
   },
   "outputs": [],
   "source": [
    "def getDiff(instance, prototype):\n",
    "    diff = []\n",
    "    for i in range(len(instance)-1):\n",
    "        diff.append(instance[i] - prototype[i])\n",
    "    return diff"
   ]
  },
  {
   "cell_type": "code",
   "execution_count": 13,
   "metadata": {
    "collapsed": true
   },
   "outputs": [],
   "source": [
    "def applyDiff(prototype, diff, opp, alfa):\n",
    "    for i in range(len(prototype)-1):\n",
    "        if(opp == 1):\n",
    "            prototype[i] = prototype[i] + alfa*diff[i]\n",
    "        else:\n",
    "            prototype[i] = prototype[i] - alfa*diff[i]\n",
    "    return prototype"
   ]
  },
  {
   "cell_type": "code",
   "execution_count": 14,
   "metadata": {
    "collapsed": true
   },
   "outputs": [],
   "source": [
    "def adjustPrototypes(n, trainset, prototypes, mySeed):\n",
    "    random.seed(mySeed)\n",
    "    \n",
    "    alfa = 0.5\n",
    "    finalAlfa = 0.01\n",
    "    steps = len(trainset)*n\n",
    "    ratio = (alfa - finalAlfa)/steps\n",
    "    \n",
    "    for i in range (n):\n",
    "        for j in range(len(trainset)):\n",
    "            pos = random.randint(0,(len(trainset)-1))\n",
    "            closestProtPos = protDists(trainset.iloc[pos],prototypes)[0][1]\n",
    "            diff = getDiff(trainset.iloc[pos],prototypes[closestProtPos])\n",
    "\n",
    "            if (trainset.iloc[pos][-1] == prototypes[closestProtPos][-1]):\n",
    "                prototypes[closestProtPos] = applyDiff(prototypes[closestProtPos], diff, 1, alfa)\n",
    "            else:\n",
    "                prototypes[closestProtPos] = applyDiff(prototypes[closestProtPos], diff, 0, alfa)\n",
    "                \n",
    "            alfa = alfa - ratio\n",
    "    return prototypes"
   ]
  },
  {
   "cell_type": "markdown",
   "metadata": {},
   "source": [
    "# LVQ2.1"
   ]
  },
  {
   "cell_type": "code",
   "execution_count": 15,
   "metadata": {
    "collapsed": true
   },
   "outputs": [],
   "source": [
    "#varrer o dataset aleatoriamente N vezes\n",
    "    # achar os 2 protótipos m e l mais próximos da instância x\n",
    "    # ajustar posição dos protótipos m e l pela regra:\n",
    "        # if(m != l):\n",
    "            #m' = m + w(t)*[pos(x)-pos(m)]\n",
    "            #l' = l - w(t)*[pos(x)-pos(m)]\n",
    "        # w(t) 0.5 -> 0.01\n",
    "        \n",
    "#rodar knn no dataset dos protótipos"
   ]
  },
  {
   "cell_type": "code",
   "execution_count": 16,
   "metadata": {
    "collapsed": true
   },
   "outputs": [],
   "source": [
    "def adjustPrototypesLVQ2_1(n, trainset, prototypes, mySeed):\n",
    "    random.seed(mySeed)\n",
    "    \n",
    "    alfa = 0.5\n",
    "    finalAlfa = 0.01\n",
    "    steps = len(trainset)*n\n",
    "    ratio = (alfa - finalAlfa)/steps\n",
    "    window = 0.6\n",
    "    windowSize = (1-window)/(1+window)\n",
    "    \n",
    "    for i in range (n):\n",
    "        for j in range(len(trainset)):\n",
    "            pos = random.randint(0,(len(trainset)-1))\n",
    "            closestProtPos = protDists(trainset.iloc[pos],prototypes)[0][1]\n",
    "            secClosestProtPos = protDists(trainset.iloc[pos],prototypes)[1][1]\n",
    "            diff = getDiff(trainset.iloc[pos],prototypes[closestProtPos])\n",
    "            \n",
    "            \n",
    "            if (prototypes[closestProtPos][-1] != prototypes[secClosestProtPos][-1]):\n",
    "                distA = calcDistance(trainset.iloc[pos], prototypes[closestProtPos], 0)[0]\n",
    "                distB = calcDistance(trainset.iloc[pos], prototypes[secClosestProtPos], 0)[0]\n",
    "                distRatio = min(distA/distB,distB/distA)\n",
    "                if (distRatio <= windowSize):\n",
    "                    if(prototypes[closestProtPos][-1] == trainset.iloc[pos][-1]):\n",
    "                        prototypes[closestProtPos] = applyDiff(prototypes[closestProtPos], diff, 1, alfa)\n",
    "                        prototypes[secClosestProtPos] = applyDiff(prototypes[secClosestProtPos], diff, 0, alfa)\n",
    "                    elif (prototypes[secClosestProtPos][-1] == trainset.iloc[pos][-1]):\n",
    "                        prototypes[closestProtPos] = applyDiff(prototypes[closestProtPos], diff, 0, alfa)\n",
    "                        prototypes[secClosestProtPos] = applyDiff(prototypes[secClosestProtPos], diff, 1, alfa)\n",
    "                \n",
    "            alfa = alfa - ratio\n",
    "    return prototypes"
   ]
  },
  {
   "cell_type": "markdown",
   "metadata": {},
   "source": [
    "# LVQ3"
   ]
  },
  {
   "cell_type": "code",
   "execution_count": 17,
   "metadata": {
    "collapsed": true
   },
   "outputs": [],
   "source": [
    "#varrer o dataset aleatoriamente N vezes\n",
    "    # achar os 2 protótipos m e l mais próximos da instância x\n",
    "    # ajustar posição dos protótipos m e l pela regra:\n",
    "            #m' = m +- w(t)*[pos(x)-pos(m)]\n",
    "            #l' = l +- w(t)*[pos(x)-pos(m)]\n",
    "        # w(t) 0.5 -> 0.01\n",
    "        \n",
    "#rodar knn no dataset dos protótipos"
   ]
  },
  {
   "cell_type": "code",
   "execution_count": 18,
   "metadata": {
    "collapsed": true
   },
   "outputs": [],
   "source": [
    "def adjustPrototypesLVQ3(n, trainset, prototypes, mySeed):\n",
    "    random.seed(mySeed)\n",
    "    \n",
    "    alfa = 0.5\n",
    "    finalAlfa = 0.01\n",
    "    steps = len(trainset)*n\n",
    "    ratio = (alfa - finalAlfa)/steps\n",
    "    window = 0.6\n",
    "    windowSize = (1-window)/(1+window)\n",
    "    estabilization = 0.5\n",
    "    \n",
    "    for i in range (n):\n",
    "        for j in range(len(trainset)):\n",
    "            pos = random.randint(0,(len(trainset)-1))\n",
    "            closestProtPos = protDists(trainset.iloc[pos],prototypes)[0][1]\n",
    "            secClosestProtPos = protDists(trainset.iloc[pos],prototypes)[1][1]\n",
    "            diff = getDiff(trainset.iloc[pos],prototypes[closestProtPos])\n",
    "            \n",
    "            distA = calcDistance(trainset.iloc[pos], prototypes[closestProtPos], 0)[0]\n",
    "            distB = calcDistance(trainset.iloc[pos], prototypes[secClosestProtPos], 0)[0]\n",
    "            distRatio = min(distA/distB,distB/distA)\n",
    "            if (distRatio <= windowSize):\n",
    "                if (prototypes[closestProtPos][-1] != prototypes[secClosestProtPos][-1]):\n",
    "                    if(prototypes[closestProtPos][-1] == trainset.iloc[pos][-1]):\n",
    "                        prototypes[closestProtPos] = applyDiff(prototypes[closestProtPos], diff, 1, alfa)\n",
    "                        prototypes[secClosestProtPos] = applyDiff(prototypes[secClosestProtPos], diff, 0, alfa)\n",
    "                    elif (prototypes[secClosestProtPos][-1] == trainset.iloc[pos][-1]):\n",
    "                        prototypes[closestProtPos] = applyDiff(prototypes[closestProtPos], diff, 0, alfa)\n",
    "                        prototypes[secClosestProtPos] = applyDiff(prototypes[secClosestProtPos], diff, 1, alfa)\n",
    "                elif (prototypes[closestProtPos][-1] == trainset.iloc[pos][-1]):\n",
    "                    prototypes[closestProtPos] = applyDiff(prototypes[closestProtPos], diff, 1, estabilization*alfa)\n",
    "                    prototypes[secClosestProtPos] = applyDiff(prototypes[secClosestProtPos], diff, 1, estabilization*alfa)\n",
    "\n",
    "            alfa = alfa - ratio\n",
    "    return prototypes"
   ]
  },
  {
   "cell_type": "markdown",
   "metadata": {},
   "source": [
    "# k-Folds Cross-Validation\n",
    "### (Implementação usada na lista 01, mas usando os protótipos)"
   ]
  },
  {
   "cell_type": "code",
   "execution_count": 19,
   "metadata": {
    "collapsed": true
   },
   "outputs": [],
   "source": [
    "import random"
   ]
  },
  {
   "cell_type": "code",
   "execution_count": 20,
   "metadata": {
    "collapsed": true
   },
   "outputs": [],
   "source": [
    "def getClassList(dataset):\n",
    "    classes = []\n",
    "    for i in range(len(dataset)):\n",
    "        if (dataset.iloc[i][-1] not in classes):\n",
    "            classes.append(dataset.iloc[i][-1])\n",
    "            \n",
    "    return classes"
   ]
  },
  {
   "cell_type": "code",
   "execution_count": 21,
   "metadata": {
    "collapsed": true
   },
   "outputs": [],
   "source": [
    "def kFolds (dataset, k, shuffle, mySeed):\n",
    "    \n",
    "    if (shuffle==1):\n",
    "        random.seed(mySeed)\n",
    "        finalDataset = dataset.sample(frac=1, random_state=mySeed)\n",
    "    else:\n",
    "        finalDataset = dataset.copy()\n",
    "        \n",
    "    splittedDataset = np.array_split(finalDataset, k)\n",
    "    \n",
    "    return splittedDataset"
   ]
  },
  {
   "cell_type": "code",
   "execution_count": 22,
   "metadata": {
    "collapsed": true
   },
   "outputs": [],
   "source": [
    "def crossValidation(dataset, kFold, shuffle, mySeed, kVariation, weighted, dataType, typeList):\n",
    "    \n",
    "    foldHits = []\n",
    "    for i in range(len(kVariation)):\n",
    "        foldHits.append(0)\n",
    "        \n",
    "    datasetFolds = kFolds(dataset, kFold, shuffle, mySeed)\n",
    "    for i in range(kFold):\n",
    "        testset = datasetFolds[i].reset_index(drop=True)\n",
    "        frames = []\n",
    "        for j in range(kFold):\n",
    "            if (not j==i):\n",
    "                frames.append(datasetFolds[j])\n",
    "        trainset = pd.concat(frames).reset_index(drop=True)\n",
    "        hits = 0\n",
    "        trainsetList = trainset.values.tolist()\n",
    "        for m in range(len(testset)):\n",
    "            neighbors = knn(testset.iloc[m], trainsetList, weighted, dataType, typeList)\n",
    "            for z in range(len(kVariation)):\n",
    "                prediction = getNeighbors(neighbors, kVariation[z])    \n",
    "                if (prediction == testset.iloc[m][-1]):\n",
    "                    foldHits[z] = foldHits[z] + 1\n",
    "                \n",
    "    \n",
    "    for n in range(len(foldHits)):\n",
    "        foldHits[n] = foldHits[n]/len(dataset)    \n",
    "    return foldHits"
   ]
  },
  {
   "cell_type": "code",
   "execution_count": 23,
   "metadata": {
    "collapsed": true
   },
   "outputs": [],
   "source": [
    "def crossValidationPrototypes(dataset, kFold, shuffle, mySeed, kVariation, weighted, dataType, typeList, protQuant, iterations, lvqType):\n",
    "    \n",
    "    classes = getClassList(dataset)\n",
    "    \n",
    "    foldHits = []\n",
    "    for i in range(len(kVariation)):\n",
    "        foldHits.append(0)\n",
    "        \n",
    "    datasetFolds = kFolds(dataset, kFold, shuffle, mySeed)\n",
    "    for i in range(kFold):\n",
    "        testset = datasetFolds[i].reset_index(drop=True)\n",
    "        frames = []\n",
    "        for j in range(kFold):\n",
    "            if (not j==i):\n",
    "                frames.append(datasetFolds[j])\n",
    "        trainset = pd.concat(frames).reset_index(drop=True)\n",
    "        \n",
    "        prototypes = createPrototypes(protQuant, trainset, classes, mySeed)\n",
    "        prototypes = adjustPrototypes(iterations, trainset, prototypes, mySeed)\n",
    "        \n",
    "        if (lvqType == 2):\n",
    "            prototypes = adjustPrototypesLVQ2_1(iterations, trainset, prototypes, mySeed)\n",
    "        elif (lvqType == 3):\n",
    "            prototypes = adjustPrototypesLVQ3(iterations, trainset, prototypes, mySeed)\n",
    "       \n",
    "        hits = 0\n",
    "        \n",
    "        if (lvqType == 0):\n",
    "            trainsetList = trainset.values.tolist()\n",
    "        trainsetList = prototypes\n",
    "        \n",
    "        for m in range(len(testset)):\n",
    "            neighbors = knn(testset.iloc[m], trainsetList, weighted, dataType, typeList)\n",
    "            for z in range(len(kVariation)):\n",
    "                prediction = getNeighbors(neighbors, kVariation[z])    \n",
    "                if (prediction == testset.iloc[m][-1]):\n",
    "                    foldHits[z] = foldHits[z] + 1\n",
    "                \n",
    "    \n",
    "    for n in range(len(foldHits)):\n",
    "        foldHits[n] = foldHits[n]/len(dataset)    \n",
    "    return foldHits"
   ]
  },
  {
   "cell_type": "markdown",
   "metadata": {},
   "source": [
    "# Datasets"
   ]
  },
  {
   "cell_type": "code",
   "execution_count": 24,
   "metadata": {
    "collapsed": true
   },
   "outputs": [],
   "source": [
    "dataretrieve = pd.read_csv(\"..//datasets/dataretrieve.csv\", na_values='?')\n",
    "desharnais = pd.read_csv(\"..//datasets/desharnais.csv\", na_values='?')\n",
    "dataretrieve = dataretrieve.fillna(0)\n",
    "desharnais = desharnais.fillna(0)"
   ]
  },
  {
   "cell_type": "code",
   "execution_count": 25,
   "metadata": {
    "collapsed": true
   },
   "outputs": [],
   "source": [
    "with open(\"..//datasets/dataretrieve.txt\") as infile:\n",
    "    dataretrievelist = infile.read()\n",
    "    dataretrievelist = dataretrievelist.split(',')\n",
    "with open(\"..//datasets/desharnais.txt\") as infile:\n",
    "    desharnaislist = infile.read()\n",
    "    desharnaislist = desharnaislist.split(',')"
   ]
  },
  {
   "cell_type": "markdown",
   "metadata": {},
   "source": [
    "# Cálculo do Score\n",
    "### (Implementação usada na lista 01, sem medir o tempo e com uso de protótipos)"
   ]
  },
  {
   "cell_type": "code",
   "execution_count": 26,
   "metadata": {
    "collapsed": true
   },
   "outputs": [],
   "source": [
    "def calculateScores(dataset, weighted, dataType, typeList):\n",
    "    scores = []\n",
    "    #startTime = time.time()\n",
    "    scores = crossValidation(dataset, 5, 1, 1000, kVariation, weighted, dataType, typeList)\n",
    "    #finishTime = time.time()\n",
    "    #totalTime = finishTime - startTime\n",
    "    return scores #[,totalTime]"
   ]
  },
  {
   "cell_type": "code",
   "execution_count": 27,
   "metadata": {
    "collapsed": true
   },
   "outputs": [],
   "source": [
    "def calculateScoresPrototypes(dataset, weighted, dataType, typeList, protQuant, iterations, lvqType):\n",
    "    scores = crossValidationPrototypes(dataset, 5, 1, 1000, kVariation, weighted, dataType, typeList, protQuant, iterations, lvqType)\n",
    "    return scores"
   ]
  },
  {
   "cell_type": "code",
   "execution_count": 71,
   "metadata": {
    "collapsed": true
   },
   "outputs": [],
   "source": [
    "import matplotlib\n",
    "import matplotlib.pyplot as plt\n",
    "import matplotlib.ticker as mticker\n",
    "from matplotlib.ticker import FormatStrFormatter\n",
    "import seaborn as sns"
   ]
  },
  {
   "cell_type": "markdown",
   "metadata": {},
   "source": [
    "# Resultados sem protótipos"
   ]
  },
  {
   "cell_type": "code",
   "execution_count": 28,
   "metadata": {
    "collapsed": true
   },
   "outputs": [],
   "source": [
    "kVariation = [1,3]"
   ]
  },
  {
   "cell_type": "code",
   "execution_count": 29,
   "metadata": {},
   "outputs": [
    {
     "data": {
      "text/html": [
       "<div>\n",
       "<style>\n",
       "    .dataframe thead tr:only-child th {\n",
       "        text-align: right;\n",
       "    }\n",
       "\n",
       "    .dataframe thead th {\n",
       "        text-align: left;\n",
       "    }\n",
       "\n",
       "    .dataframe tbody tr th {\n",
       "        vertical-align: top;\n",
       "    }\n",
       "</style>\n",
       "<table border=\"1\" class=\"dataframe\">\n",
       "  <thead>\n",
       "    <tr style=\"text-align: right;\">\n",
       "      <th></th>\n",
       "      <th>k1</th>\n",
       "      <th>k3</th>\n",
       "    </tr>\n",
       "  </thead>\n",
       "  <tbody>\n",
       "    <tr>\n",
       "      <th>0</th>\n",
       "      <td>0.838462</td>\n",
       "      <td>0.915385</td>\n",
       "    </tr>\n",
       "  </tbody>\n",
       "</table>\n",
       "</div>"
      ],
      "text/plain": [
       "         k1        k3\n",
       "0  0.838462  0.915385"
      ]
     },
     "execution_count": 29,
     "metadata": {},
     "output_type": "execute_result"
    }
   ],
   "source": [
    "dataretrieveNoProt = calculateScores(dataretrieve, 0, 0, dataretrievelist)\n",
    "dataretrieveNoProtDF = pd.DataFrame([dataretrieveNoProt], columns = ([\"k1\", \"k3\"]))\n",
    "dataretrieveNoProtDF.to_csv(\"..//results/dataretrieveNoProt.csv\", index=False)\n",
    "dataretrieveNoProtDF"
   ]
  },
  {
   "cell_type": "code",
   "execution_count": 30,
   "metadata": {
    "scrolled": true
   },
   "outputs": [
    {
     "data": {
      "text/html": [
       "<div>\n",
       "<style>\n",
       "    .dataframe thead tr:only-child th {\n",
       "        text-align: right;\n",
       "    }\n",
       "\n",
       "    .dataframe thead th {\n",
       "        text-align: left;\n",
       "    }\n",
       "\n",
       "    .dataframe tbody tr th {\n",
       "        vertical-align: top;\n",
       "    }\n",
       "</style>\n",
       "<table border=\"1\" class=\"dataframe\">\n",
       "  <thead>\n",
       "    <tr style=\"text-align: right;\">\n",
       "      <th></th>\n",
       "      <th>k1</th>\n",
       "      <th>k3</th>\n",
       "    </tr>\n",
       "  </thead>\n",
       "  <tbody>\n",
       "    <tr>\n",
       "      <th>0</th>\n",
       "      <td>0.530864</td>\n",
       "      <td>0.555556</td>\n",
       "    </tr>\n",
       "  </tbody>\n",
       "</table>\n",
       "</div>"
      ],
      "text/plain": [
       "         k1        k3\n",
       "0  0.530864  0.555556"
      ]
     },
     "execution_count": 30,
     "metadata": {},
     "output_type": "execute_result"
    }
   ],
   "source": [
    "desharnaisNoProt = calculateScores(desharnais, 0, 0, desharnaislist)\n",
    "desharnaisNoProtDF = pd.DataFrame([desharnaisNoProt], columns = ([\"k1\", \"k3\"]))\n",
    "desharnaisNoProtDF.to_csv(\"..//results/desharnaisNoProt.csv\", index=False)\n",
    "desharnaisNoProtDF"
   ]
  },
  {
   "cell_type": "markdown",
   "metadata": {},
   "source": [
    "# Resultados com LVQ1"
   ]
  },
  {
   "cell_type": "markdown",
   "metadata": {},
   "source": [
    "## Protótipos = nº de classes"
   ]
  },
  {
   "cell_type": "code",
   "execution_count": 31,
   "metadata": {},
   "outputs": [
    {
     "data": {
      "text/html": [
       "<div>\n",
       "<style>\n",
       "    .dataframe thead tr:only-child th {\n",
       "        text-align: right;\n",
       "    }\n",
       "\n",
       "    .dataframe thead th {\n",
       "        text-align: left;\n",
       "    }\n",
       "\n",
       "    .dataframe tbody tr th {\n",
       "        vertical-align: top;\n",
       "    }\n",
       "</style>\n",
       "<table border=\"1\" class=\"dataframe\">\n",
       "  <thead>\n",
       "    <tr style=\"text-align: right;\">\n",
       "      <th></th>\n",
       "      <th>k1</th>\n",
       "    </tr>\n",
       "  </thead>\n",
       "  <tbody>\n",
       "    <tr>\n",
       "      <th>0</th>\n",
       "      <td>0.907692</td>\n",
       "    </tr>\n",
       "  </tbody>\n",
       "</table>\n",
       "</div>"
      ],
      "text/plain": [
       "         k1\n",
       "0  0.907692"
      ]
     },
     "execution_count": 31,
     "metadata": {},
     "output_type": "execute_result"
    }
   ],
   "source": [
    "classQuant = len(getClassList(dataretrieve))\n",
    "if (classQuant < 3):\n",
    "    kVariation = [1]\n",
    "dataretrieveLVQ1ProtN = calculateScoresPrototypes(dataretrieve, 0, 0, dataretrievelist, classQuant, 3, 1)\n",
    "dataretrieveLVQ1ProtNDF = pd.DataFrame([dataretrieveLVQ1ProtN], columns = ([\"k1\"]))\n",
    "dataretrieveLVQ1ProtNDF.to_csv(\"..//results/dataretrieveLVQ1ProtN.csv\", index=False)\n",
    "kVariation = [1, 3]\n",
    "dataretrieveLVQ1ProtNDF"
   ]
  },
  {
   "cell_type": "code",
   "execution_count": 32,
   "metadata": {},
   "outputs": [
    {
     "data": {
      "text/html": [
       "<div>\n",
       "<style>\n",
       "    .dataframe thead tr:only-child th {\n",
       "        text-align: right;\n",
       "    }\n",
       "\n",
       "    .dataframe thead th {\n",
       "        text-align: left;\n",
       "    }\n",
       "\n",
       "    .dataframe tbody tr th {\n",
       "        vertical-align: top;\n",
       "    }\n",
       "</style>\n",
       "<table border=\"1\" class=\"dataframe\">\n",
       "  <thead>\n",
       "    <tr style=\"text-align: right;\">\n",
       "      <th></th>\n",
       "      <th>k1</th>\n",
       "      <th>k3</th>\n",
       "    </tr>\n",
       "  </thead>\n",
       "  <tbody>\n",
       "    <tr>\n",
       "      <th>0</th>\n",
       "      <td>0.567901</td>\n",
       "      <td>0.567901</td>\n",
       "    </tr>\n",
       "  </tbody>\n",
       "</table>\n",
       "</div>"
      ],
      "text/plain": [
       "         k1        k3\n",
       "0  0.567901  0.567901"
      ]
     },
     "execution_count": 32,
     "metadata": {},
     "output_type": "execute_result"
    }
   ],
   "source": [
    "desharnaisLVQ1ProtN = calculateScoresPrototypes(desharnais, 0, 0, desharnaislist, len(getClassList(desharnais)), 3, 1)\n",
    "desharnaisLVQ1ProtNDF = pd.DataFrame([desharnaisLVQ1ProtN], columns = ([\"k1\", \"k3\"]))\n",
    "desharnaisLVQ1ProtNDF.to_csv(\"..//results/desharnaisLVQ1ProtN.csv\", index=False)\n",
    "desharnaisLVQ1ProtNDF"
   ]
  },
  {
   "cell_type": "markdown",
   "metadata": {},
   "source": [
    "## Protótipos = nº de classes + 1"
   ]
  },
  {
   "cell_type": "code",
   "execution_count": 33,
   "metadata": {},
   "outputs": [
    {
     "data": {
      "text/html": [
       "<div>\n",
       "<style>\n",
       "    .dataframe thead tr:only-child th {\n",
       "        text-align: right;\n",
       "    }\n",
       "\n",
       "    .dataframe thead th {\n",
       "        text-align: left;\n",
       "    }\n",
       "\n",
       "    .dataframe tbody tr th {\n",
       "        vertical-align: top;\n",
       "    }\n",
       "</style>\n",
       "<table border=\"1\" class=\"dataframe\">\n",
       "  <thead>\n",
       "    <tr style=\"text-align: right;\">\n",
       "      <th></th>\n",
       "      <th>k1</th>\n",
       "      <th>k3</th>\n",
       "    </tr>\n",
       "  </thead>\n",
       "  <tbody>\n",
       "    <tr>\n",
       "      <th>0</th>\n",
       "      <td>0.907692</td>\n",
       "      <td>0.084615</td>\n",
       "    </tr>\n",
       "  </tbody>\n",
       "</table>\n",
       "</div>"
      ],
      "text/plain": [
       "         k1        k3\n",
       "0  0.907692  0.084615"
      ]
     },
     "execution_count": 33,
     "metadata": {},
     "output_type": "execute_result"
    }
   ],
   "source": [
    "dataretrieveLVQ1ProtN1 = calculateScoresPrototypes(dataretrieve, 0, 0, dataretrievelist, len(getClassList(dataretrieve))+1, 3, 1)\n",
    "dataretrieveLVQ1ProtN1DF = pd.DataFrame([dataretrieveLVQ1ProtN1], columns = ([\"k1\", \"k3\"]))\n",
    "dataretrieveLVQ1ProtN1DF.to_csv(\"..//results/dataretrieveLVQ1ProtN1.csv\", index=False)\n",
    "dataretrieveLVQ1ProtN1DF"
   ]
  },
  {
   "cell_type": "code",
   "execution_count": 34,
   "metadata": {},
   "outputs": [
    {
     "data": {
      "text/html": [
       "<div>\n",
       "<style>\n",
       "    .dataframe thead tr:only-child th {\n",
       "        text-align: right;\n",
       "    }\n",
       "\n",
       "    .dataframe thead th {\n",
       "        text-align: left;\n",
       "    }\n",
       "\n",
       "    .dataframe tbody tr th {\n",
       "        vertical-align: top;\n",
       "    }\n",
       "</style>\n",
       "<table border=\"1\" class=\"dataframe\">\n",
       "  <thead>\n",
       "    <tr style=\"text-align: right;\">\n",
       "      <th></th>\n",
       "      <th>k1</th>\n",
       "      <th>k3</th>\n",
       "    </tr>\n",
       "  </thead>\n",
       "  <tbody>\n",
       "    <tr>\n",
       "      <th>0</th>\n",
       "      <td>0.555556</td>\n",
       "      <td>0.358025</td>\n",
       "    </tr>\n",
       "  </tbody>\n",
       "</table>\n",
       "</div>"
      ],
      "text/plain": [
       "         k1        k3\n",
       "0  0.555556  0.358025"
      ]
     },
     "execution_count": 34,
     "metadata": {},
     "output_type": "execute_result"
    }
   ],
   "source": [
    "desharnaisLVQ1ProtN1 = calculateScoresPrototypes(desharnais, 0, 0, desharnaislist, len(getClassList(desharnais))+1, 3, 1)\n",
    "desharnaisLVQ1ProtN1DF = pd.DataFrame([desharnaisLVQ1ProtN1], columns = ([\"k1\", \"k3\"]))\n",
    "desharnaisLVQ1ProtN1DF.to_csv(\"..//results/desharnaisLVQ1ProtN1.csv\", index=False)\n",
    "desharnaisLVQ1ProtN1DF"
   ]
  },
  {
   "cell_type": "markdown",
   "metadata": {},
   "source": [
    "## Protótipos = 2x nº de classes"
   ]
  },
  {
   "cell_type": "code",
   "execution_count": 35,
   "metadata": {},
   "outputs": [
    {
     "data": {
      "text/html": [
       "<div>\n",
       "<style>\n",
       "    .dataframe thead tr:only-child th {\n",
       "        text-align: right;\n",
       "    }\n",
       "\n",
       "    .dataframe thead th {\n",
       "        text-align: left;\n",
       "    }\n",
       "\n",
       "    .dataframe tbody tr th {\n",
       "        vertical-align: top;\n",
       "    }\n",
       "</style>\n",
       "<table border=\"1\" class=\"dataframe\">\n",
       "  <thead>\n",
       "    <tr style=\"text-align: right;\">\n",
       "      <th></th>\n",
       "      <th>k1</th>\n",
       "      <th>k3</th>\n",
       "    </tr>\n",
       "  </thead>\n",
       "  <tbody>\n",
       "    <tr>\n",
       "      <th>0</th>\n",
       "      <td>0.907692</td>\n",
       "      <td>0.7</td>\n",
       "    </tr>\n",
       "  </tbody>\n",
       "</table>\n",
       "</div>"
      ],
      "text/plain": [
       "         k1   k3\n",
       "0  0.907692  0.7"
      ]
     },
     "execution_count": 35,
     "metadata": {},
     "output_type": "execute_result"
    }
   ],
   "source": [
    "dataretrieveLVQ1Prot2N = calculateScoresPrototypes(dataretrieve, 0, 0, dataretrievelist, len(getClassList(dataretrieve))*2, 3, 1)\n",
    "dataretrieveLVQ1Prot2NDF = pd.DataFrame([dataretrieveLVQ1Prot2N], columns = ([\"k1\", \"k3\"]))\n",
    "dataretrieveLVQ1Prot2NDF.to_csv(\"..//results/dataretrieveLVQ1Prot2N.csv\", index=False)\n",
    "dataretrieveLVQ1Prot2NDF"
   ]
  },
  {
   "cell_type": "code",
   "execution_count": 36,
   "metadata": {
    "scrolled": true
   },
   "outputs": [
    {
     "data": {
      "text/html": [
       "<div>\n",
       "<style>\n",
       "    .dataframe thead tr:only-child th {\n",
       "        text-align: right;\n",
       "    }\n",
       "\n",
       "    .dataframe thead th {\n",
       "        text-align: left;\n",
       "    }\n",
       "\n",
       "    .dataframe tbody tr th {\n",
       "        vertical-align: top;\n",
       "    }\n",
       "</style>\n",
       "<table border=\"1\" class=\"dataframe\">\n",
       "  <thead>\n",
       "    <tr style=\"text-align: right;\">\n",
       "      <th></th>\n",
       "      <th>k1</th>\n",
       "      <th>k3</th>\n",
       "    </tr>\n",
       "  </thead>\n",
       "  <tbody>\n",
       "    <tr>\n",
       "      <th>0</th>\n",
       "      <td>0.555556</td>\n",
       "      <td>0.506173</td>\n",
       "    </tr>\n",
       "  </tbody>\n",
       "</table>\n",
       "</div>"
      ],
      "text/plain": [
       "         k1        k3\n",
       "0  0.555556  0.506173"
      ]
     },
     "execution_count": 36,
     "metadata": {},
     "output_type": "execute_result"
    }
   ],
   "source": [
    "desharnaisLVQ1Prot2N = calculateScoresPrototypes(desharnais, 0, 0, desharnaislist, len(getClassList(desharnais))*2, 3, 1)\n",
    "desharnaisLVQ1Prot2NDF = pd.DataFrame([desharnaisLVQ1Prot2N], columns = ([\"k1\", \"k3\"]))\n",
    "desharnaisLVQ1Prot2NDF.to_csv(\"..//results/desharnaisLVQ1Prot2N.csv\", index=False)\n",
    "desharnaisLVQ1Prot2NDF"
   ]
  },
  {
   "cell_type": "markdown",
   "metadata": {},
   "source": [
    "## Protótipos = 3x nº de classes"
   ]
  },
  {
   "cell_type": "code",
   "execution_count": 37,
   "metadata": {
    "scrolled": true
   },
   "outputs": [
    {
     "data": {
      "text/html": [
       "<div>\n",
       "<style>\n",
       "    .dataframe thead tr:only-child th {\n",
       "        text-align: right;\n",
       "    }\n",
       "\n",
       "    .dataframe thead th {\n",
       "        text-align: left;\n",
       "    }\n",
       "\n",
       "    .dataframe tbody tr th {\n",
       "        vertical-align: top;\n",
       "    }\n",
       "</style>\n",
       "<table border=\"1\" class=\"dataframe\">\n",
       "  <thead>\n",
       "    <tr style=\"text-align: right;\">\n",
       "      <th></th>\n",
       "      <th>k1</th>\n",
       "      <th>k3</th>\n",
       "    </tr>\n",
       "  </thead>\n",
       "  <tbody>\n",
       "    <tr>\n",
       "      <th>0</th>\n",
       "      <td>0.907692</td>\n",
       "      <td>0.707692</td>\n",
       "    </tr>\n",
       "  </tbody>\n",
       "</table>\n",
       "</div>"
      ],
      "text/plain": [
       "         k1        k3\n",
       "0  0.907692  0.707692"
      ]
     },
     "execution_count": 37,
     "metadata": {},
     "output_type": "execute_result"
    }
   ],
   "source": [
    "dataretrieveLVQ1Prot3N = calculateScoresPrototypes(dataretrieve, 0, 0, dataretrievelist, len(getClassList(dataretrieve))*3, 3, 1)\n",
    "dataretrieveLVQ1Prot3NDF = pd.DataFrame([dataretrieveLVQ1Prot3N], columns = ([\"k1\", \"k3\"]))\n",
    "dataretrieveLVQ1Prot3NDF.to_csv(\"..//results/dataretrieveLVQ1Prot3N.csv\", index=False)\n",
    "dataretrieveLVQ1Prot3NDF"
   ]
  },
  {
   "cell_type": "code",
   "execution_count": 38,
   "metadata": {
    "scrolled": false
   },
   "outputs": [
    {
     "data": {
      "text/html": [
       "<div>\n",
       "<style>\n",
       "    .dataframe thead tr:only-child th {\n",
       "        text-align: right;\n",
       "    }\n",
       "\n",
       "    .dataframe thead th {\n",
       "        text-align: left;\n",
       "    }\n",
       "\n",
       "    .dataframe tbody tr th {\n",
       "        vertical-align: top;\n",
       "    }\n",
       "</style>\n",
       "<table border=\"1\" class=\"dataframe\">\n",
       "  <thead>\n",
       "    <tr style=\"text-align: right;\">\n",
       "      <th></th>\n",
       "      <th>k1</th>\n",
       "      <th>k3</th>\n",
       "    </tr>\n",
       "  </thead>\n",
       "  <tbody>\n",
       "    <tr>\n",
       "      <th>0</th>\n",
       "      <td>0.481481</td>\n",
       "      <td>0.382716</td>\n",
       "    </tr>\n",
       "  </tbody>\n",
       "</table>\n",
       "</div>"
      ],
      "text/plain": [
       "         k1        k3\n",
       "0  0.481481  0.382716"
      ]
     },
     "execution_count": 38,
     "metadata": {},
     "output_type": "execute_result"
    }
   ],
   "source": [
    "desharnaisLVQ1Prot3N = calculateScoresPrototypes(desharnais, 0, 0, desharnaislist, len(getClassList(desharnais))*3, 3, 1)\n",
    "desharnaisLVQ1Prot3NDF = pd.DataFrame([desharnaisLVQ1Prot3N], columns = ([\"k1\", \"k3\"]))\n",
    "desharnaisLVQ1Prot3NDF.to_csv(\"..//results/desharnaisLVQ1Prot3N.csv\", index=False)\n",
    "desharnaisLVQ1Prot3NDF"
   ]
  },
  {
   "cell_type": "markdown",
   "metadata": {},
   "source": [
    "## Protótipos = 5x nº de classes"
   ]
  },
  {
   "cell_type": "code",
   "execution_count": 39,
   "metadata": {
    "scrolled": true
   },
   "outputs": [
    {
     "data": {
      "text/html": [
       "<div>\n",
       "<style>\n",
       "    .dataframe thead tr:only-child th {\n",
       "        text-align: right;\n",
       "    }\n",
       "\n",
       "    .dataframe thead th {\n",
       "        text-align: left;\n",
       "    }\n",
       "\n",
       "    .dataframe tbody tr th {\n",
       "        vertical-align: top;\n",
       "    }\n",
       "</style>\n",
       "<table border=\"1\" class=\"dataframe\">\n",
       "  <thead>\n",
       "    <tr style=\"text-align: right;\">\n",
       "      <th></th>\n",
       "      <th>k1</th>\n",
       "      <th>k3</th>\n",
       "    </tr>\n",
       "  </thead>\n",
       "  <tbody>\n",
       "    <tr>\n",
       "      <th>0</th>\n",
       "      <td>0.892308</td>\n",
       "      <td>0.853846</td>\n",
       "    </tr>\n",
       "  </tbody>\n",
       "</table>\n",
       "</div>"
      ],
      "text/plain": [
       "         k1        k3\n",
       "0  0.892308  0.853846"
      ]
     },
     "execution_count": 39,
     "metadata": {},
     "output_type": "execute_result"
    }
   ],
   "source": [
    "dataretrieveLVQ1Prot5N = calculateScoresPrototypes(dataretrieve, 0, 0, dataretrievelist, len(getClassList(dataretrieve))*5, 3, 1)\n",
    "dataretrieveLVQ1Prot5NDF = pd.DataFrame([dataretrieveLVQ1Prot5N], columns = ([\"k1\", \"k3\"]))\n",
    "dataretrieveLVQ1Prot5NDF.to_csv(\"..//results/dataretrieveLVQ1Prot5N.csv\", index=False)\n",
    "dataretrieveLVQ1Prot5NDF"
   ]
  },
  {
   "cell_type": "code",
   "execution_count": 40,
   "metadata": {
    "scrolled": false
   },
   "outputs": [
    {
     "data": {
      "text/html": [
       "<div>\n",
       "<style>\n",
       "    .dataframe thead tr:only-child th {\n",
       "        text-align: right;\n",
       "    }\n",
       "\n",
       "    .dataframe thead th {\n",
       "        text-align: left;\n",
       "    }\n",
       "\n",
       "    .dataframe tbody tr th {\n",
       "        vertical-align: top;\n",
       "    }\n",
       "</style>\n",
       "<table border=\"1\" class=\"dataframe\">\n",
       "  <thead>\n",
       "    <tr style=\"text-align: right;\">\n",
       "      <th></th>\n",
       "      <th>k1</th>\n",
       "      <th>k3</th>\n",
       "    </tr>\n",
       "  </thead>\n",
       "  <tbody>\n",
       "    <tr>\n",
       "      <th>0</th>\n",
       "      <td>0.493827</td>\n",
       "      <td>0.493827</td>\n",
       "    </tr>\n",
       "  </tbody>\n",
       "</table>\n",
       "</div>"
      ],
      "text/plain": [
       "         k1        k3\n",
       "0  0.493827  0.493827"
      ]
     },
     "execution_count": 40,
     "metadata": {},
     "output_type": "execute_result"
    }
   ],
   "source": [
    "desharnaisLVQ1Prot5N = calculateScoresPrototypes(desharnais, 0, 0, desharnaislist, len(getClassList(desharnais))*5, 3, 1)\n",
    "desharnaisLVQ1Prot5NDF = pd.DataFrame([desharnaisLVQ1Prot5N], columns = ([\"k1\", \"k3\"]))\n",
    "desharnaisLVQ1Prot5NDF.to_csv(\"..//results/desharnaisLVQ1Prot5N.csv\", index=False)\n",
    "desharnaisLVQ1Prot5NDF"
   ]
  },
  {
   "cell_type": "markdown",
   "metadata": {},
   "source": [
    "### Gráficos do LVQ1"
   ]
  },
  {
   "cell_type": "code",
   "execution_count": 116,
   "metadata": {
    "collapsed": true
   },
   "outputs": [],
   "source": [
    "dataretrieveLVQ1K1Results = []\n",
    "dataretrieveLVQ1K1Results.append(dataretrieveLVQ1ProtNDF['k1'][0])\n",
    "dataretrieveLVQ1K1Results.append(dataretrieveLVQ1ProtN1DF['k1'][0])\n",
    "dataretrieveLVQ1K1Results.append(dataretrieveLVQ1Prot2NDF['k1'][0])\n",
    "dataretrieveLVQ1K1Results.append(dataretrieveLVQ1Prot3NDF['k1'][0])\n",
    "dataretrieveLVQ1K1Results.append(dataretrieveLVQ1Prot5NDF['k1'][0])\n",
    "\n",
    "desharnaisLVQ1K1Results = []\n",
    "desharnaisLVQ1K1Results.append(desharnaisLVQ1ProtNDF['k1'][0])\n",
    "desharnaisLVQ1K1Results.append(desharnaisLVQ1ProtN1DF['k1'][0])\n",
    "desharnaisLVQ1K1Results.append(desharnaisLVQ1Prot2NDF['k1'][0])\n",
    "desharnaisLVQ1K1Results.append(desharnaisLVQ1Prot3NDF['k1'][0])\n",
    "desharnaisLVQ1K1Results.append(desharnaisLVQ1Prot5NDF['k1'][0])"
   ]
  },
  {
   "cell_type": "code",
   "execution_count": 117,
   "metadata": {},
   "outputs": [
    {
     "data": {
      "image/png": "[encoded data removed]",
      "text/plain": [
       "<matplotlib.figure.Figure at 0x117497860>"
      ]
     },
     "metadata": {},
     "output_type": "display_data"
    }
   ],
   "source": [
    "plt.ylim((0.85,0.95))\n",
    "ax = sns.barplot(x=['n','n+1','2n','3n','5n'], y=dataretrieveLVQ1K1Results, color = sns.xkcd_rgb['light blue'])\n",
    "ax.set(xlabel='Número de protótipos (n=número de classes)')\n",
    "ax.set(ylabel='% acerto')\n",
    "for p in ax.patches:\n",
    "    ax.annotate(np.round(p.get_height(), decimals=4), (p.get_x()+0.2, p.get_height()+0.005))\n",
    "plt.savefig(\"..//results/dataretrieveLVQ1K1Results.jpg\")\n",
    "plt.show()"
   ]
  },
  {
   "cell_type": "code",
   "execution_count": 118,
   "metadata": {},
   "outputs": [
    {
     "data": {
      "image/png": "[encoded data removed]",
      "text/plain": [
       "<matplotlib.figure.Figure at 0x11719df28>"
      ]
     },
     "metadata": {},
     "output_type": "display_data"
    }
   ],
   "source": [
    "plt.ylim((0.4,0.65))\n",
    "ax = sns.barplot(x=['n','n+1','2n','3n','5n'], y=desharnaisLVQ1K1Results, color = sns.xkcd_rgb['light blue'])\n",
    "ax.set(xlabel='Número de protótipos (n=número de classes)')\n",
    "ax.set(ylabel='% acerto')\n",
    "for p in ax.patches:\n",
    "    ax.annotate(np.round(p.get_height(), decimals=4), (p.get_x()+0.2, p.get_height()+0.005))\n",
    "plt.savefig(\"..//results/desharnaisLVQ1K1Results.jpg\")\n",
    "plt.show()"
   ]
  },
  {
   "cell_type": "code",
   "execution_count": 119,
   "metadata": {
    "collapsed": true
   },
   "outputs": [],
   "source": [
    "dataretrieveLVQ1K3Results = []\n",
    "dataretrieveLVQ1K3Results.append(0)\n",
    "dataretrieveLVQ1K3Results.append(dataretrieveLVQ1ProtN1DF['k3'][0])\n",
    "dataretrieveLVQ1K3Results.append(dataretrieveLVQ1Prot2NDF['k3'][0])\n",
    "dataretrieveLVQ1K3Results.append(dataretrieveLVQ1Prot3NDF['k3'][0])\n",
    "dataretrieveLVQ1K3Results.append(dataretrieveLVQ1Prot5NDF['k3'][0])\n",
    "\n",
    "desharnaisLVQ1K3Results = []\n",
    "desharnaisLVQ1K3Results.append(desharnaisLVQ1ProtNDF['k3'][0])\n",
    "desharnaisLVQ1K3Results.append(desharnaisLVQ1ProtN1DF['k3'][0])\n",
    "desharnaisLVQ1K3Results.append(desharnaisLVQ1Prot2NDF['k3'][0])\n",
    "desharnaisLVQ1K3Results.append(desharnaisLVQ1Prot3NDF['k3'][0])\n",
    "desharnaisLVQ1K3Results.append(desharnaisLVQ1Prot5NDF['k3'][0])"
   ]
  },
  {
   "cell_type": "code",
   "execution_count": 120,
   "metadata": {},
   "outputs": [
    {
     "data": {
      "image/png": "[encoded data removed]",
      "text/plain": [
       "<matplotlib.figure.Figure at 0x11746fda0>"
      ]
     },
     "metadata": {},
     "output_type": "display_data"
    }
   ],
   "source": [
    "plt.ylim((0.05,0.95))\n",
    "ax = sns.barplot(x=['n','n+1','2n','3n','5n'], y=dataretrieveLVQ1K3Results, color = sns.xkcd_rgb['light blue'])\n",
    "ax.set(xlabel='Número de protótipos (n=número de classes)')\n",
    "ax.set(ylabel='% acerto')\n",
    "for p in ax.patches:\n",
    "    ax.annotate(np.round(p.get_height(), decimals=4), (p.get_x()+0.20, p.get_height()+0.01))\n",
    "plt.savefig(\"..//results/dataretrieveLVQ1K3Results.jpg\")\n",
    "plt.show()"
   ]
  },
  {
   "cell_type": "code",
   "execution_count": 121,
   "metadata": {},
   "outputs": [
    {
     "data": {
      "image/png": "[encoded data removed]",
      "text/plain": [
       "<matplotlib.figure.Figure at 0x1177ad5c0>"
      ]
     },
     "metadata": {},
     "output_type": "display_data"
    }
   ],
   "source": [
    "plt.ylim((0.2,0.65))\n",
    "ax = sns.barplot(x=['n','n+1','2n','3n','5n'], y=desharnaisLVQ1K3Results, color = sns.xkcd_rgb['light blue'])\n",
    "ax.set(xlabel='Número de protótipos (n=número de classes)')\n",
    "ax.set(ylabel='% acerto')\n",
    "for p in ax.patches:\n",
    "    ax.annotate(np.round(p.get_height(), decimals=4), (p.get_x()+0.2, p.get_height()+0.005))\n",
    "plt.savefig(\"..//results/desharnaisLVQ1K3Results.jpg\")\n",
    "plt.show()"
   ]
  },
  {
   "cell_type": "markdown",
   "metadata": {},
   "source": [
    "# Resultados com LVQ2.1"
   ]
  },
  {
   "cell_type": "markdown",
   "metadata": {},
   "source": [
    "## Protótipos = nº de classes"
   ]
  },
  {
   "cell_type": "code",
   "execution_count": 41,
   "metadata": {},
   "outputs": [
    {
     "data": {
      "text/html": [
       "<div>\n",
       "<style>\n",
       "    .dataframe thead tr:only-child th {\n",
       "        text-align: right;\n",
       "    }\n",
       "\n",
       "    .dataframe thead th {\n",
       "        text-align: left;\n",
       "    }\n",
       "\n",
       "    .dataframe tbody tr th {\n",
       "        vertical-align: top;\n",
       "    }\n",
       "</style>\n",
       "<table border=\"1\" class=\"dataframe\">\n",
       "  <thead>\n",
       "    <tr style=\"text-align: right;\">\n",
       "      <th></th>\n",
       "      <th>k1</th>\n",
       "    </tr>\n",
       "  </thead>\n",
       "  <tbody>\n",
       "    <tr>\n",
       "      <th>0</th>\n",
       "      <td>0.907692</td>\n",
       "    </tr>\n",
       "  </tbody>\n",
       "</table>\n",
       "</div>"
      ],
      "text/plain": [
       "         k1\n",
       "0  0.907692"
      ]
     },
     "execution_count": 41,
     "metadata": {},
     "output_type": "execute_result"
    }
   ],
   "source": [
    "classQuant = len(getClassList(dataretrieve))\n",
    "if (classQuant < 3):\n",
    "    kVariation = [1]\n",
    "dataretrieveLVQ2ProtN = calculateScoresPrototypes(dataretrieve, 0, 0, dataretrievelist, classQuant, 3, 2)\n",
    "dataretrieveLVQ2ProtNDF = pd.DataFrame([dataretrieveLVQ2ProtN], columns = ([\"k1\"]))\n",
    "dataretrieveLVQ2ProtNDF.to_csv(\"..//results/dataretrieveLVQ2ProtN.csv\", index=False)\n",
    "kVariation = [1, 3]\n",
    "dataretrieveLVQ2ProtNDF"
   ]
  },
  {
   "cell_type": "code",
   "execution_count": 42,
   "metadata": {},
   "outputs": [
    {
     "data": {
      "text/html": [
       "<div>\n",
       "<style>\n",
       "    .dataframe thead tr:only-child th {\n",
       "        text-align: right;\n",
       "    }\n",
       "\n",
       "    .dataframe thead th {\n",
       "        text-align: left;\n",
       "    }\n",
       "\n",
       "    .dataframe tbody tr th {\n",
       "        vertical-align: top;\n",
       "    }\n",
       "</style>\n",
       "<table border=\"1\" class=\"dataframe\">\n",
       "  <thead>\n",
       "    <tr style=\"text-align: right;\">\n",
       "      <th></th>\n",
       "      <th>k1</th>\n",
       "      <th>k3</th>\n",
       "    </tr>\n",
       "  </thead>\n",
       "  <tbody>\n",
       "    <tr>\n",
       "      <th>0</th>\n",
       "      <td>0.567901</td>\n",
       "      <td>0.567901</td>\n",
       "    </tr>\n",
       "  </tbody>\n",
       "</table>\n",
       "</div>"
      ],
      "text/plain": [
       "         k1        k3\n",
       "0  0.567901  0.567901"
      ]
     },
     "execution_count": 42,
     "metadata": {},
     "output_type": "execute_result"
    }
   ],
   "source": [
    "desharnaisLVQ2ProtN = calculateScoresPrototypes(desharnais, 0, 0, desharnaislist, len(getClassList(desharnais)), 3, 2)\n",
    "desharnaisLVQ2ProtNDF = pd.DataFrame([desharnaisLVQ2ProtN], columns = ([\"k1\", \"k3\"]))\n",
    "desharnaisLVQ2ProtNDF.to_csv(\"..//results/desharnaisLVQ2ProtN.csv\", index=False)\n",
    "desharnaisLVQ2ProtNDF"
   ]
  },
  {
   "cell_type": "markdown",
   "metadata": {},
   "source": [
    "## Protótipos = nº de classes + 1"
   ]
  },
  {
   "cell_type": "code",
   "execution_count": 43,
   "metadata": {},
   "outputs": [
    {
     "data": {
      "text/html": [
       "<div>\n",
       "<style>\n",
       "    .dataframe thead tr:only-child th {\n",
       "        text-align: right;\n",
       "    }\n",
       "\n",
       "    .dataframe thead th {\n",
       "        text-align: left;\n",
       "    }\n",
       "\n",
       "    .dataframe tbody tr th {\n",
       "        vertical-align: top;\n",
       "    }\n",
       "</style>\n",
       "<table border=\"1\" class=\"dataframe\">\n",
       "  <thead>\n",
       "    <tr style=\"text-align: right;\">\n",
       "      <th></th>\n",
       "      <th>k1</th>\n",
       "      <th>k3</th>\n",
       "    </tr>\n",
       "  </thead>\n",
       "  <tbody>\n",
       "    <tr>\n",
       "      <th>0</th>\n",
       "      <td>0.915385</td>\n",
       "      <td>0.084615</td>\n",
       "    </tr>\n",
       "  </tbody>\n",
       "</table>\n",
       "</div>"
      ],
      "text/plain": [
       "         k1        k3\n",
       "0  0.915385  0.084615"
      ]
     },
     "execution_count": 43,
     "metadata": {},
     "output_type": "execute_result"
    }
   ],
   "source": [
    "dataretrieveLVQ2ProtN1 = calculateScoresPrototypes(dataretrieve, 0, 0, dataretrievelist, len(getClassList(dataretrieve))+1, 3, 2)\n",
    "dataretrieveLVQ2ProtN1DF = pd.DataFrame([dataretrieveLVQ2ProtN1], columns = ([\"k1\", \"k3\"]))\n",
    "dataretrieveLVQ2ProtN1DF.to_csv(\"..//results/dataretrieveLVQ2ProtN1.csv\", index=False)\n",
    "dataretrieveLVQ2ProtN1DF"
   ]
  },
  {
   "cell_type": "code",
   "execution_count": 44,
   "metadata": {},
   "outputs": [
    {
     "data": {
      "text/html": [
       "<div>\n",
       "<style>\n",
       "    .dataframe thead tr:only-child th {\n",
       "        text-align: right;\n",
       "    }\n",
       "\n",
       "    .dataframe thead th {\n",
       "        text-align: left;\n",
       "    }\n",
       "\n",
       "    .dataframe tbody tr th {\n",
       "        vertical-align: top;\n",
       "    }\n",
       "</style>\n",
       "<table border=\"1\" class=\"dataframe\">\n",
       "  <thead>\n",
       "    <tr style=\"text-align: right;\">\n",
       "      <th></th>\n",
       "      <th>k1</th>\n",
       "      <th>k3</th>\n",
       "    </tr>\n",
       "  </thead>\n",
       "  <tbody>\n",
       "    <tr>\n",
       "      <th>0</th>\n",
       "      <td>0.555556</td>\n",
       "      <td>0.407407</td>\n",
       "    </tr>\n",
       "  </tbody>\n",
       "</table>\n",
       "</div>"
      ],
      "text/plain": [
       "         k1        k3\n",
       "0  0.555556  0.407407"
      ]
     },
     "execution_count": 44,
     "metadata": {},
     "output_type": "execute_result"
    }
   ],
   "source": [
    "desharnaisLVQ2ProtN1 = calculateScoresPrototypes(desharnais, 0, 0, desharnaislist, len(getClassList(desharnais))+1, 3, 2)\n",
    "desharnaisLVQ2ProtN1DF = pd.DataFrame([desharnaisLVQ2ProtN1], columns = ([\"k1\", \"k3\"]))\n",
    "desharnaisLVQ2ProtN1DF.to_csv(\"..//results/desharnaisLVQ2ProtN1.csv\", index=False)\n",
    "desharnaisLVQ2ProtN1DF"
   ]
  },
  {
   "cell_type": "markdown",
   "metadata": {},
   "source": [
    "## Protótipos = 2x nº de classes"
   ]
  },
  {
   "cell_type": "code",
   "execution_count": 45,
   "metadata": {},
   "outputs": [
    {
     "data": {
      "text/html": [
       "<div>\n",
       "<style>\n",
       "    .dataframe thead tr:only-child th {\n",
       "        text-align: right;\n",
       "    }\n",
       "\n",
       "    .dataframe thead th {\n",
       "        text-align: left;\n",
       "    }\n",
       "\n",
       "    .dataframe tbody tr th {\n",
       "        vertical-align: top;\n",
       "    }\n",
       "</style>\n",
       "<table border=\"1\" class=\"dataframe\">\n",
       "  <thead>\n",
       "    <tr style=\"text-align: right;\">\n",
       "      <th></th>\n",
       "      <th>k1</th>\n",
       "      <th>k3</th>\n",
       "    </tr>\n",
       "  </thead>\n",
       "  <tbody>\n",
       "    <tr>\n",
       "      <th>0</th>\n",
       "      <td>0.907692</td>\n",
       "      <td>0.7</td>\n",
       "    </tr>\n",
       "  </tbody>\n",
       "</table>\n",
       "</div>"
      ],
      "text/plain": [
       "         k1   k3\n",
       "0  0.907692  0.7"
      ]
     },
     "execution_count": 45,
     "metadata": {},
     "output_type": "execute_result"
    }
   ],
   "source": [
    "dataretrieveLVQ2Prot2N = calculateScoresPrototypes(dataretrieve, 0, 0, dataretrievelist, len(getClassList(dataretrieve))*2, 3, 2)\n",
    "dataretrieveLVQ2Prot2NDF = pd.DataFrame([dataretrieveLVQ2Prot2N], columns = ([\"k1\", \"k3\"]))\n",
    "dataretrieveLVQ2Prot2NDF.to_csv(\"..//results/dataretrieveLVQ2Prot2N.csv\", index=False)\n",
    "dataretrieveLVQ2Prot2NDF"
   ]
  },
  {
   "cell_type": "code",
   "execution_count": 46,
   "metadata": {
    "scrolled": true
   },
   "outputs": [
    {
     "data": {
      "text/html": [
       "<div>\n",
       "<style>\n",
       "    .dataframe thead tr:only-child th {\n",
       "        text-align: right;\n",
       "    }\n",
       "\n",
       "    .dataframe thead th {\n",
       "        text-align: left;\n",
       "    }\n",
       "\n",
       "    .dataframe tbody tr th {\n",
       "        vertical-align: top;\n",
       "    }\n",
       "</style>\n",
       "<table border=\"1\" class=\"dataframe\">\n",
       "  <thead>\n",
       "    <tr style=\"text-align: right;\">\n",
       "      <th></th>\n",
       "      <th>k1</th>\n",
       "      <th>k3</th>\n",
       "    </tr>\n",
       "  </thead>\n",
       "  <tbody>\n",
       "    <tr>\n",
       "      <th>0</th>\n",
       "      <td>0.530864</td>\n",
       "      <td>0.493827</td>\n",
       "    </tr>\n",
       "  </tbody>\n",
       "</table>\n",
       "</div>"
      ],
      "text/plain": [
       "         k1        k3\n",
       "0  0.530864  0.493827"
      ]
     },
     "execution_count": 46,
     "metadata": {},
     "output_type": "execute_result"
    }
   ],
   "source": [
    "desharnaisLVQ2Prot2N = calculateScoresPrototypes(desharnais, 0, 0, desharnaislist, len(getClassList(desharnais))*2, 3, 2)\n",
    "desharnaisLVQ2Prot2NDF = pd.DataFrame([desharnaisLVQ2Prot2N], columns = ([\"k1\", \"k3\"]))\n",
    "desharnaisLVQ2Prot2NDF.to_csv(\"..//results/desharnaisLVQ1Prot2N.csv\", index=False)\n",
    "desharnaisLVQ2Prot2NDF"
   ]
  },
  {
   "cell_type": "markdown",
   "metadata": {},
   "source": [
    "## Protótipos = 3x nº de classes"
   ]
  },
  {
   "cell_type": "code",
   "execution_count": 47,
   "metadata": {
    "scrolled": true
   },
   "outputs": [
    {
     "data": {
      "text/html": [
       "<div>\n",
       "<style>\n",
       "    .dataframe thead tr:only-child th {\n",
       "        text-align: right;\n",
       "    }\n",
       "\n",
       "    .dataframe thead th {\n",
       "        text-align: left;\n",
       "    }\n",
       "\n",
       "    .dataframe tbody tr th {\n",
       "        vertical-align: top;\n",
       "    }\n",
       "</style>\n",
       "<table border=\"1\" class=\"dataframe\">\n",
       "  <thead>\n",
       "    <tr style=\"text-align: right;\">\n",
       "      <th></th>\n",
       "      <th>k1</th>\n",
       "      <th>k3</th>\n",
       "    </tr>\n",
       "  </thead>\n",
       "  <tbody>\n",
       "    <tr>\n",
       "      <th>0</th>\n",
       "      <td>0.907692</td>\n",
       "      <td>0.7</td>\n",
       "    </tr>\n",
       "  </tbody>\n",
       "</table>\n",
       "</div>"
      ],
      "text/plain": [
       "         k1   k3\n",
       "0  0.907692  0.7"
      ]
     },
     "execution_count": 47,
     "metadata": {},
     "output_type": "execute_result"
    }
   ],
   "source": [
    "dataretrieveLVQ2Prot3N = calculateScoresPrototypes(dataretrieve, 0, 0, dataretrievelist, len(getClassList(dataretrieve))*3, 3, 2)\n",
    "dataretrieveLVQ2Prot3NDF = pd.DataFrame([dataretrieveLVQ2Prot3N], columns = ([\"k1\", \"k3\"]))\n",
    "dataretrieveLVQ2Prot3NDF.to_csv(\"..//results/dataretrieveLVQ2Prot3N.csv\", index=False)\n",
    "dataretrieveLVQ2Prot3NDF"
   ]
  },
  {
   "cell_type": "code",
   "execution_count": 48,
   "metadata": {
    "scrolled": false
   },
   "outputs": [
    {
     "data": {
      "text/html": [
       "<div>\n",
       "<style>\n",
       "    .dataframe thead tr:only-child th {\n",
       "        text-align: right;\n",
       "    }\n",
       "\n",
       "    .dataframe thead th {\n",
       "        text-align: left;\n",
       "    }\n",
       "\n",
       "    .dataframe tbody tr th {\n",
       "        vertical-align: top;\n",
       "    }\n",
       "</style>\n",
       "<table border=\"1\" class=\"dataframe\">\n",
       "  <thead>\n",
       "    <tr style=\"text-align: right;\">\n",
       "      <th></th>\n",
       "      <th>k1</th>\n",
       "      <th>k3</th>\n",
       "    </tr>\n",
       "  </thead>\n",
       "  <tbody>\n",
       "    <tr>\n",
       "      <th>0</th>\n",
       "      <td>0.493827</td>\n",
       "      <td>0.395062</td>\n",
       "    </tr>\n",
       "  </tbody>\n",
       "</table>\n",
       "</div>"
      ],
      "text/plain": [
       "         k1        k3\n",
       "0  0.493827  0.395062"
      ]
     },
     "execution_count": 48,
     "metadata": {},
     "output_type": "execute_result"
    }
   ],
   "source": [
    "desharnaisLVQ2Prot3N = calculateScoresPrototypes(desharnais, 0, 0, desharnaislist, len(getClassList(desharnais))*3, 3, 2)\n",
    "desharnaisLVQ2Prot3NDF = pd.DataFrame([desharnaisLVQ2Prot3N], columns = ([\"k1\", \"k3\"]))\n",
    "desharnaisLVQ2Prot3NDF.to_csv(\"..//results/desharnaisLVQ2Prot3N.csv\", index=False)\n",
    "desharnaisLVQ2Prot3NDF"
   ]
  },
  {
   "cell_type": "markdown",
   "metadata": {},
   "source": [
    "## Protótipos = 5x nº de classes"
   ]
  },
  {
   "cell_type": "code",
   "execution_count": 49,
   "metadata": {
    "scrolled": true
   },
   "outputs": [
    {
     "data": {
      "text/html": [
       "<div>\n",
       "<style>\n",
       "    .dataframe thead tr:only-child th {\n",
       "        text-align: right;\n",
       "    }\n",
       "\n",
       "    .dataframe thead th {\n",
       "        text-align: left;\n",
       "    }\n",
       "\n",
       "    .dataframe tbody tr th {\n",
       "        vertical-align: top;\n",
       "    }\n",
       "</style>\n",
       "<table border=\"1\" class=\"dataframe\">\n",
       "  <thead>\n",
       "    <tr style=\"text-align: right;\">\n",
       "      <th></th>\n",
       "      <th>k1</th>\n",
       "      <th>k3</th>\n",
       "    </tr>\n",
       "  </thead>\n",
       "  <tbody>\n",
       "    <tr>\n",
       "      <th>0</th>\n",
       "      <td>0.907692</td>\n",
       "      <td>0.853846</td>\n",
       "    </tr>\n",
       "  </tbody>\n",
       "</table>\n",
       "</div>"
      ],
      "text/plain": [
       "         k1        k3\n",
       "0  0.907692  0.853846"
      ]
     },
     "execution_count": 49,
     "metadata": {},
     "output_type": "execute_result"
    }
   ],
   "source": [
    "dataretrieveLVQ2Prot5N = calculateScoresPrototypes(dataretrieve, 0, 0, dataretrievelist, len(getClassList(dataretrieve))*5, 3, 2)\n",
    "dataretrieveLVQ2Prot5NDF = pd.DataFrame([dataretrieveLVQ2Prot5N], columns = ([\"k1\", \"k3\"]))\n",
    "dataretrieveLVQ2Prot5NDF.to_csv(\"..//results/dataretrieveLVQ2Prot5N.csv\", index=False)\n",
    "dataretrieveLVQ2Prot5NDF"
   ]
  },
  {
   "cell_type": "code",
   "execution_count": 50,
   "metadata": {
    "scrolled": true
   },
   "outputs": [
    {
     "data": {
      "text/html": [
       "<div>\n",
       "<style>\n",
       "    .dataframe thead tr:only-child th {\n",
       "        text-align: right;\n",
       "    }\n",
       "\n",
       "    .dataframe thead th {\n",
       "        text-align: left;\n",
       "    }\n",
       "\n",
       "    .dataframe tbody tr th {\n",
       "        vertical-align: top;\n",
       "    }\n",
       "</style>\n",
       "<table border=\"1\" class=\"dataframe\">\n",
       "  <thead>\n",
       "    <tr style=\"text-align: right;\">\n",
       "      <th></th>\n",
       "      <th>k1</th>\n",
       "      <th>k3</th>\n",
       "    </tr>\n",
       "  </thead>\n",
       "  <tbody>\n",
       "    <tr>\n",
       "      <th>0</th>\n",
       "      <td>0.493827</td>\n",
       "      <td>0.493827</td>\n",
       "    </tr>\n",
       "  </tbody>\n",
       "</table>\n",
       "</div>"
      ],
      "text/plain": [
       "         k1        k3\n",
       "0  0.493827  0.493827"
      ]
     },
     "execution_count": 50,
     "metadata": {},
     "output_type": "execute_result"
    }
   ],
   "source": [
    "desharnaisLVQ2Prot5N = calculateScoresPrototypes(desharnais, 0, 0, desharnaislist, len(getClassList(desharnais))*5, 3, 2)\n",
    "desharnaisLVQ2Prot5NDF = pd.DataFrame([desharnaisLVQ2Prot5N], columns = ([\"k1\", \"k3\"]))\n",
    "desharnaisLVQ2Prot5NDF.to_csv(\"..//results/desharnaisLVQ2Prot5N.csv\", index=False)\n",
    "desharnaisLVQ2Prot5NDF"
   ]
  },
  {
   "cell_type": "markdown",
   "metadata": {},
   "source": [
    "### Gráficos do LVQ2.1"
   ]
  },
  {
   "cell_type": "code",
   "execution_count": 122,
   "metadata": {
    "collapsed": true
   },
   "outputs": [],
   "source": [
    "dataretrieveLVQ2K1Results = []\n",
    "dataretrieveLVQ2K1Results.append(dataretrieveLVQ2ProtNDF['k1'][0])\n",
    "dataretrieveLVQ2K1Results.append(dataretrieveLVQ2ProtN1DF['k1'][0])\n",
    "dataretrieveLVQ2K1Results.append(dataretrieveLVQ2Prot2NDF['k1'][0])\n",
    "dataretrieveLVQ2K1Results.append(dataretrieveLVQ2Prot3NDF['k1'][0])\n",
    "dataretrieveLVQ2K1Results.append(dataretrieveLVQ2Prot5NDF['k1'][0])\n",
    "\n",
    "desharnaisLVQ2K1Results = []\n",
    "desharnaisLVQ2K1Results.append(desharnaisLVQ2ProtNDF['k1'][0])\n",
    "desharnaisLVQ2K1Results.append(desharnaisLVQ2ProtN1DF['k1'][0])\n",
    "desharnaisLVQ2K1Results.append(desharnaisLVQ2Prot2NDF['k1'][0])\n",
    "desharnaisLVQ2K1Results.append(desharnaisLVQ2Prot3NDF['k1'][0])\n",
    "desharnaisLVQ2K1Results.append(desharnaisLVQ2Prot5NDF['k1'][0])"
   ]
  },
  {
   "cell_type": "code",
   "execution_count": 124,
   "metadata": {},
   "outputs": [
    {
     "data": {
      "image/png": "[encoded data removed]",
      "text/plain": [
       "<matplotlib.figure.Figure at 0x117992908>"
      ]
     },
     "metadata": {},
     "output_type": "display_data"
    }
   ],
   "source": [
    "plt.ylim((0.85,0.95))\n",
    "ax = sns.barplot(x=['n','n+1','2n','3n','5n'], y=dataretrieveLVQ2K1Results, color = sns.xkcd_rgb['light blue'])\n",
    "ax.set(xlabel='Número de protótipos (n=número de classes)')\n",
    "ax.set(ylabel='% acerto')\n",
    "for p in ax.patches:\n",
    "    ax.annotate(np.round(p.get_height(), decimals=4), (p.get_x()+0.2, p.get_height()+0.002))\n",
    "plt.savefig(\"..//results/dataretrieveLVQ2K1Results.jpg\")\n",
    "plt.show()"
   ]
  },
  {
   "cell_type": "code",
   "execution_count": 125,
   "metadata": {},
   "outputs": [
    {
     "data": {
      "image/png": "[encoded data removed]",
      "text/plain": [
       "<matplotlib.figure.Figure at 0x1179c8f28>"
      ]
     },
     "metadata": {},
     "output_type": "display_data"
    }
   ],
   "source": [
    "plt.ylim((0.4,0.65))\n",
    "ax = sns.barplot(x=['n','n+1','2n','3n','5n'], y=desharnaisLVQ2K1Results, color = sns.xkcd_rgb['light blue'])\n",
    "ax.set(xlabel='Número de protótipos (n=número de classes)')\n",
    "ax.set(ylabel='% acerto')\n",
    "for p in ax.patches:\n",
    "    ax.annotate(np.round(p.get_height(), decimals=4), (p.get_x()+0.2, p.get_height()+0.005))\n",
    "plt.savefig(\"..//results/desharnaisLVQ2K1Results.jpg\")\n",
    "plt.show()"
   ]
  },
  {
   "cell_type": "code",
   "execution_count": 126,
   "metadata": {
    "collapsed": true
   },
   "outputs": [],
   "source": [
    "dataretrieveLVQ2K3Results = []\n",
    "dataretrieveLVQ2K3Results.append(0)\n",
    "dataretrieveLVQ2K3Results.append(dataretrieveLVQ2ProtN1DF['k3'][0])\n",
    "dataretrieveLVQ2K3Results.append(dataretrieveLVQ2Prot2NDF['k3'][0])\n",
    "dataretrieveLVQ2K3Results.append(dataretrieveLVQ2Prot3NDF['k3'][0])\n",
    "dataretrieveLVQ2K3Results.append(dataretrieveLVQ2Prot5NDF['k3'][0])\n",
    "\n",
    "desharnaisLVQ2K3Results = []\n",
    "desharnaisLVQ2K3Results.append(desharnaisLVQ2ProtNDF['k3'][0])\n",
    "desharnaisLVQ2K3Results.append(desharnaisLVQ2ProtN1DF['k3'][0])\n",
    "desharnaisLVQ2K3Results.append(desharnaisLVQ2Prot2NDF['k3'][0])\n",
    "desharnaisLVQ2K3Results.append(desharnaisLVQ2Prot3NDF['k3'][0])\n",
    "desharnaisLVQ2K3Results.append(desharnaisLVQ2Prot5NDF['k3'][0])"
   ]
  },
  {
   "cell_type": "code",
   "execution_count": 128,
   "metadata": {},
   "outputs": [
    {
     "data": {
      "image/png": "[encoded data removed]",
      "text/plain": [
       "<matplotlib.figure.Figure at 0x117148da0>"
      ]
     },
     "metadata": {},
     "output_type": "display_data"
    }
   ],
   "source": [
    "plt.ylim((0.05,0.95))\n",
    "ax = sns.barplot(x=['n','n+1','2n','3n','5n'], y=dataretrieveLVQ2K3Results, color = sns.xkcd_rgb['light blue'])\n",
    "ax.set(xlabel='Número de protótipos (n=número de classes)')\n",
    "ax.set(ylabel='% acerto')\n",
    "for p in ax.patches:\n",
    "    ax.annotate(np.round(p.get_height(), decimals=4), (p.get_x()+0.20, p.get_height()+0.01))\n",
    "plt.savefig(\"..//results/dataretrieveLVQ2K3Results.jpg\")\n",
    "plt.show()"
   ]
  },
  {
   "cell_type": "code",
   "execution_count": 129,
   "metadata": {},
   "outputs": [
    {
     "data": {
      "image/png": "[encoded data removed]",
      "text/plain": [
       "<matplotlib.figure.Figure at 0x117cd7ac8>"
      ]
     },
     "metadata": {},
     "output_type": "display_data"
    }
   ],
   "source": [
    "plt.ylim((0.2,0.65))\n",
    "ax = sns.barplot(x=['n','n+1','2n','3n','5n'], y=desharnaisLVQ2K3Results, color = sns.xkcd_rgb['light blue'])\n",
    "ax.set(xlabel='Número de protótipos (n=número de classes)')\n",
    "ax.set(ylabel='% acerto')\n",
    "for p in ax.patches:\n",
    "    ax.annotate(np.round(p.get_height(), decimals=4), (p.get_x()+0.2, p.get_height()+0.005))\n",
    "plt.savefig(\"..//results/desharnaisLVQ2K3Results.jpg\")\n",
    "plt.show()"
   ]
  },
  {
   "cell_type": "markdown",
   "metadata": {},
   "source": [
    "# Resultados com LVQ3"
   ]
  },
  {
   "cell_type": "markdown",
   "metadata": {},
   "source": [
    "## Protótipos = nº de classes"
   ]
  },
  {
   "cell_type": "code",
   "execution_count": 51,
   "metadata": {},
   "outputs": [
    {
     "data": {
      "text/html": [
       "<div>\n",
       "<style>\n",
       "    .dataframe thead tr:only-child th {\n",
       "        text-align: right;\n",
       "    }\n",
       "\n",
       "    .dataframe thead th {\n",
       "        text-align: left;\n",
       "    }\n",
       "\n",
       "    .dataframe tbody tr th {\n",
       "        vertical-align: top;\n",
       "    }\n",
       "</style>\n",
       "<table border=\"1\" class=\"dataframe\">\n",
       "  <thead>\n",
       "    <tr style=\"text-align: right;\">\n",
       "      <th></th>\n",
       "      <th>k1</th>\n",
       "    </tr>\n",
       "  </thead>\n",
       "  <tbody>\n",
       "    <tr>\n",
       "      <th>0</th>\n",
       "      <td>0.907692</td>\n",
       "    </tr>\n",
       "  </tbody>\n",
       "</table>\n",
       "</div>"
      ],
      "text/plain": [
       "         k1\n",
       "0  0.907692"
      ]
     },
     "execution_count": 51,
     "metadata": {},
     "output_type": "execute_result"
    }
   ],
   "source": [
    "classQuant = len(getClassList(dataretrieve))\n",
    "if (classQuant < 3):\n",
    "    kVariation = [1]\n",
    "dataretrieveLVQ3ProtN = calculateScoresPrototypes(dataretrieve, 0, 0, dataretrievelist, classQuant, 3, 3)\n",
    "dataretrieveLVQ3ProtNDF = pd.DataFrame([dataretrieveLVQ3ProtN], columns = ([\"k1\"]))\n",
    "dataretrieveLVQ3ProtNDF.to_csv(\"..//results/dataretrieveLVQ3ProtN.csv\", index=False)\n",
    "kVariation = [1, 3]\n",
    "dataretrieveLVQ3ProtNDF"
   ]
  },
  {
   "cell_type": "code",
   "execution_count": 52,
   "metadata": {},
   "outputs": [
    {
     "data": {
      "text/html": [
       "<div>\n",
       "<style>\n",
       "    .dataframe thead tr:only-child th {\n",
       "        text-align: right;\n",
       "    }\n",
       "\n",
       "    .dataframe thead th {\n",
       "        text-align: left;\n",
       "    }\n",
       "\n",
       "    .dataframe tbody tr th {\n",
       "        vertical-align: top;\n",
       "    }\n",
       "</style>\n",
       "<table border=\"1\" class=\"dataframe\">\n",
       "  <thead>\n",
       "    <tr style=\"text-align: right;\">\n",
       "      <th></th>\n",
       "      <th>k1</th>\n",
       "      <th>k3</th>\n",
       "    </tr>\n",
       "  </thead>\n",
       "  <tbody>\n",
       "    <tr>\n",
       "      <th>0</th>\n",
       "      <td>0.567901</td>\n",
       "      <td>0.567901</td>\n",
       "    </tr>\n",
       "  </tbody>\n",
       "</table>\n",
       "</div>"
      ],
      "text/plain": [
       "         k1        k3\n",
       "0  0.567901  0.567901"
      ]
     },
     "execution_count": 52,
     "metadata": {},
     "output_type": "execute_result"
    }
   ],
   "source": [
    "desharnaisLVQ3ProtN = calculateScoresPrototypes(desharnais, 0, 0, desharnaislist, len(getClassList(desharnais)), 3, 3)\n",
    "desharnaisLVQ3ProtNDF = pd.DataFrame([desharnaisLVQ3ProtN], columns = ([\"k1\", \"k3\"]))\n",
    "desharnaisLVQ3ProtNDF.to_csv(\"..//results/desharnaisLVQ3ProtN.csv\", index=False)\n",
    "desharnaisLVQ3ProtNDF"
   ]
  },
  {
   "cell_type": "markdown",
   "metadata": {},
   "source": [
    "## Protótipos = nº de classes + 1"
   ]
  },
  {
   "cell_type": "code",
   "execution_count": 53,
   "metadata": {},
   "outputs": [
    {
     "data": {
      "text/html": [
       "<div>\n",
       "<style>\n",
       "    .dataframe thead tr:only-child th {\n",
       "        text-align: right;\n",
       "    }\n",
       "\n",
       "    .dataframe thead th {\n",
       "        text-align: left;\n",
       "    }\n",
       "\n",
       "    .dataframe tbody tr th {\n",
       "        vertical-align: top;\n",
       "    }\n",
       "</style>\n",
       "<table border=\"1\" class=\"dataframe\">\n",
       "  <thead>\n",
       "    <tr style=\"text-align: right;\">\n",
       "      <th></th>\n",
       "      <th>k1</th>\n",
       "      <th>k3</th>\n",
       "    </tr>\n",
       "  </thead>\n",
       "  <tbody>\n",
       "    <tr>\n",
       "      <th>0</th>\n",
       "      <td>0.915385</td>\n",
       "      <td>0.084615</td>\n",
       "    </tr>\n",
       "  </tbody>\n",
       "</table>\n",
       "</div>"
      ],
      "text/plain": [
       "         k1        k3\n",
       "0  0.915385  0.084615"
      ]
     },
     "execution_count": 53,
     "metadata": {},
     "output_type": "execute_result"
    }
   ],
   "source": [
    "dataretrieveLVQ3ProtN1 = calculateScoresPrototypes(dataretrieve, 0, 0, dataretrievelist, len(getClassList(dataretrieve))+1, 3, 3)\n",
    "dataretrieveLVQ3ProtN1DF = pd.DataFrame([dataretrieveLVQ2ProtN1], columns = ([\"k1\", \"k3\"]))\n",
    "dataretrieveLVQ3ProtN1DF.to_csv(\"..//results/dataretrieveLVQ3ProtN1.csv\", index=False)\n",
    "dataretrieveLVQ3ProtN1DF"
   ]
  },
  {
   "cell_type": "code",
   "execution_count": 54,
   "metadata": {},
   "outputs": [
    {
     "data": {
      "text/html": [
       "<div>\n",
       "<style>\n",
       "    .dataframe thead tr:only-child th {\n",
       "        text-align: right;\n",
       "    }\n",
       "\n",
       "    .dataframe thead th {\n",
       "        text-align: left;\n",
       "    }\n",
       "\n",
       "    .dataframe tbody tr th {\n",
       "        vertical-align: top;\n",
       "    }\n",
       "</style>\n",
       "<table border=\"1\" class=\"dataframe\">\n",
       "  <thead>\n",
       "    <tr style=\"text-align: right;\">\n",
       "      <th></th>\n",
       "      <th>k1</th>\n",
       "      <th>k3</th>\n",
       "    </tr>\n",
       "  </thead>\n",
       "  <tbody>\n",
       "    <tr>\n",
       "      <th>0</th>\n",
       "      <td>0.555556</td>\n",
       "      <td>0.407407</td>\n",
       "    </tr>\n",
       "  </tbody>\n",
       "</table>\n",
       "</div>"
      ],
      "text/plain": [
       "         k1        k3\n",
       "0  0.555556  0.407407"
      ]
     },
     "execution_count": 54,
     "metadata": {},
     "output_type": "execute_result"
    }
   ],
   "source": [
    "desharnaisLVQ3ProtN1 = calculateScoresPrototypes(desharnais, 0, 0, desharnaislist, len(getClassList(desharnais))+1, 3, 3)\n",
    "desharnaisLVQ3ProtN1DF = pd.DataFrame([desharnaisLVQ3ProtN1], columns = ([\"k1\", \"k3\"]))\n",
    "desharnaisLVQ3ProtN1DF.to_csv(\"..//results/desharnaisLVQ3ProtN1.csv\", index=False)\n",
    "desharnaisLVQ3ProtN1DF"
   ]
  },
  {
   "cell_type": "markdown",
   "metadata": {},
   "source": [
    "## Protótipos = 2x nº de classes"
   ]
  },
  {
   "cell_type": "code",
   "execution_count": 55,
   "metadata": {},
   "outputs": [
    {
     "data": {
      "text/html": [
       "<div>\n",
       "<style>\n",
       "    .dataframe thead tr:only-child th {\n",
       "        text-align: right;\n",
       "    }\n",
       "\n",
       "    .dataframe thead th {\n",
       "        text-align: left;\n",
       "    }\n",
       "\n",
       "    .dataframe tbody tr th {\n",
       "        vertical-align: top;\n",
       "    }\n",
       "</style>\n",
       "<table border=\"1\" class=\"dataframe\">\n",
       "  <thead>\n",
       "    <tr style=\"text-align: right;\">\n",
       "      <th></th>\n",
       "      <th>k1</th>\n",
       "      <th>k3</th>\n",
       "    </tr>\n",
       "  </thead>\n",
       "  <tbody>\n",
       "    <tr>\n",
       "      <th>0</th>\n",
       "      <td>0.907692</td>\n",
       "      <td>0.684615</td>\n",
       "    </tr>\n",
       "  </tbody>\n",
       "</table>\n",
       "</div>"
      ],
      "text/plain": [
       "         k1        k3\n",
       "0  0.907692  0.684615"
      ]
     },
     "execution_count": 55,
     "metadata": {},
     "output_type": "execute_result"
    }
   ],
   "source": [
    "dataretrieveLVQ3Prot2N = calculateScoresPrototypes(dataretrieve, 0, 0, dataretrievelist, len(getClassList(dataretrieve))*2, 3, 3)\n",
    "dataretrieveLVQ3Prot2NDF = pd.DataFrame([dataretrieveLVQ3Prot2N], columns = ([\"k1\", \"k3\"]))\n",
    "dataretrieveLVQ3Prot2NDF.to_csv(\"..//results/dataretrieveLVQ3Prot2N.csv\", index=False)\n",
    "dataretrieveLVQ3Prot2NDF"
   ]
  },
  {
   "cell_type": "code",
   "execution_count": 56,
   "metadata": {
    "scrolled": true
   },
   "outputs": [
    {
     "data": {
      "text/html": [
       "<div>\n",
       "<style>\n",
       "    .dataframe thead tr:only-child th {\n",
       "        text-align: right;\n",
       "    }\n",
       "\n",
       "    .dataframe thead th {\n",
       "        text-align: left;\n",
       "    }\n",
       "\n",
       "    .dataframe tbody tr th {\n",
       "        vertical-align: top;\n",
       "    }\n",
       "</style>\n",
       "<table border=\"1\" class=\"dataframe\">\n",
       "  <thead>\n",
       "    <tr style=\"text-align: right;\">\n",
       "      <th></th>\n",
       "      <th>k1</th>\n",
       "      <th>k3</th>\n",
       "    </tr>\n",
       "  </thead>\n",
       "  <tbody>\n",
       "    <tr>\n",
       "      <th>0</th>\n",
       "      <td>0.530864</td>\n",
       "      <td>0.419753</td>\n",
       "    </tr>\n",
       "  </tbody>\n",
       "</table>\n",
       "</div>"
      ],
      "text/plain": [
       "         k1        k3\n",
       "0  0.530864  0.419753"
      ]
     },
     "execution_count": 56,
     "metadata": {},
     "output_type": "execute_result"
    }
   ],
   "source": [
    "desharnaisLVQ3Prot2N = calculateScoresPrototypes(desharnais, 0, 0, desharnaislist, len(getClassList(desharnais))*2, 3, 3)\n",
    "desharnaisLVQ3Prot2NDF = pd.DataFrame([desharnaisLVQ3Prot2N], columns = ([\"k1\", \"k3\"]))\n",
    "desharnaisLVQ3Prot2NDF.to_csv(\"..//results/desharnaisLVQ3Prot2N.csv\", index=False)\n",
    "desharnaisLVQ3Prot2NDF"
   ]
  },
  {
   "cell_type": "markdown",
   "metadata": {},
   "source": [
    "## Protótipos = 3x nº de classes"
   ]
  },
  {
   "cell_type": "code",
   "execution_count": 57,
   "metadata": {
    "scrolled": true
   },
   "outputs": [
    {
     "data": {
      "text/html": [
       "<div>\n",
       "<style>\n",
       "    .dataframe thead tr:only-child th {\n",
       "        text-align: right;\n",
       "    }\n",
       "\n",
       "    .dataframe thead th {\n",
       "        text-align: left;\n",
       "    }\n",
       "\n",
       "    .dataframe tbody tr th {\n",
       "        vertical-align: top;\n",
       "    }\n",
       "</style>\n",
       "<table border=\"1\" class=\"dataframe\">\n",
       "  <thead>\n",
       "    <tr style=\"text-align: right;\">\n",
       "      <th></th>\n",
       "      <th>k1</th>\n",
       "      <th>k3</th>\n",
       "    </tr>\n",
       "  </thead>\n",
       "  <tbody>\n",
       "    <tr>\n",
       "      <th>0</th>\n",
       "      <td>0.907692</td>\n",
       "      <td>0.7</td>\n",
       "    </tr>\n",
       "  </tbody>\n",
       "</table>\n",
       "</div>"
      ],
      "text/plain": [
       "         k1   k3\n",
       "0  0.907692  0.7"
      ]
     },
     "execution_count": 57,
     "metadata": {},
     "output_type": "execute_result"
    }
   ],
   "source": [
    "dataretrieveLVQ3Prot3N = calculateScoresPrototypes(dataretrieve, 0, 0, dataretrievelist, len(getClassList(dataretrieve))*3, 3, 3)\n",
    "dataretrieveLVQ3Prot3NDF = pd.DataFrame([dataretrieveLVQ3Prot3N], columns = ([\"k1\", \"k3\"]))\n",
    "dataretrieveLVQ3Prot3NDF.to_csv(\"..//results/dataretrieveLVQ3Prot3N.csv\", index=False)\n",
    "dataretrieveLVQ3Prot3NDF"
   ]
  },
  {
   "cell_type": "code",
   "execution_count": 58,
   "metadata": {
    "scrolled": false
   },
   "outputs": [
    {
     "data": {
      "text/html": [
       "<div>\n",
       "<style>\n",
       "    .dataframe thead tr:only-child th {\n",
       "        text-align: right;\n",
       "    }\n",
       "\n",
       "    .dataframe thead th {\n",
       "        text-align: left;\n",
       "    }\n",
       "\n",
       "    .dataframe tbody tr th {\n",
       "        vertical-align: top;\n",
       "    }\n",
       "</style>\n",
       "<table border=\"1\" class=\"dataframe\">\n",
       "  <thead>\n",
       "    <tr style=\"text-align: right;\">\n",
       "      <th></th>\n",
       "      <th>k1</th>\n",
       "      <th>k3</th>\n",
       "    </tr>\n",
       "  </thead>\n",
       "  <tbody>\n",
       "    <tr>\n",
       "      <th>0</th>\n",
       "      <td>0.493827</td>\n",
       "      <td>0.395062</td>\n",
       "    </tr>\n",
       "  </tbody>\n",
       "</table>\n",
       "</div>"
      ],
      "text/plain": [
       "         k1        k3\n",
       "0  0.493827  0.395062"
      ]
     },
     "execution_count": 58,
     "metadata": {},
     "output_type": "execute_result"
    }
   ],
   "source": [
    "desharnaisLVQ3Prot3N = calculateScoresPrototypes(desharnais, 0, 0, desharnaislist, len(getClassList(desharnais))*3, 3, 3)\n",
    "desharnaisLVQ3Prot3NDF = pd.DataFrame([desharnaisLVQ3Prot3N], columns = ([\"k1\", \"k3\"]))\n",
    "desharnaisLVQ3Prot3NDF.to_csv(\"..//results/desharnaisLVQ3Prot3N.csv\", index=False)\n",
    "desharnaisLVQ3Prot3NDF"
   ]
  },
  {
   "cell_type": "markdown",
   "metadata": {},
   "source": [
    "## Protótipos = 5x nº de classes"
   ]
  },
  {
   "cell_type": "code",
   "execution_count": 59,
   "metadata": {
    "scrolled": true
   },
   "outputs": [
    {
     "data": {
      "text/html": [
       "<div>\n",
       "<style>\n",
       "    .dataframe thead tr:only-child th {\n",
       "        text-align: right;\n",
       "    }\n",
       "\n",
       "    .dataframe thead th {\n",
       "        text-align: left;\n",
       "    }\n",
       "\n",
       "    .dataframe tbody tr th {\n",
       "        vertical-align: top;\n",
       "    }\n",
       "</style>\n",
       "<table border=\"1\" class=\"dataframe\">\n",
       "  <thead>\n",
       "    <tr style=\"text-align: right;\">\n",
       "      <th></th>\n",
       "      <th>k1</th>\n",
       "      <th>k3</th>\n",
       "    </tr>\n",
       "  </thead>\n",
       "  <tbody>\n",
       "    <tr>\n",
       "      <th>0</th>\n",
       "      <td>0.892308</td>\n",
       "      <td>0.838462</td>\n",
       "    </tr>\n",
       "  </tbody>\n",
       "</table>\n",
       "</div>"
      ],
      "text/plain": [
       "         k1        k3\n",
       "0  0.892308  0.838462"
      ]
     },
     "execution_count": 59,
     "metadata": {},
     "output_type": "execute_result"
    }
   ],
   "source": [
    "dataretrieveLVQ3Prot5N = calculateScoresPrototypes(dataretrieve, 0, 0, dataretrievelist, len(getClassList(dataretrieve))*5, 3, 3)\n",
    "dataretrieveLVQ3Prot5NDF = pd.DataFrame([dataretrieveLVQ3Prot5N], columns = ([\"k1\", \"k3\"]))\n",
    "dataretrieveLVQ3Prot5NDF.to_csv(\"..//results/dataretrieveLVQ3Prot5N.csv\", index=False)\n",
    "dataretrieveLVQ3Prot5NDF"
   ]
  },
  {
   "cell_type": "code",
   "execution_count": 60,
   "metadata": {
    "scrolled": true
   },
   "outputs": [
    {
     "data": {
      "text/html": [
       "<div>\n",
       "<style>\n",
       "    .dataframe thead tr:only-child th {\n",
       "        text-align: right;\n",
       "    }\n",
       "\n",
       "    .dataframe thead th {\n",
       "        text-align: left;\n",
       "    }\n",
       "\n",
       "    .dataframe tbody tr th {\n",
       "        vertical-align: top;\n",
       "    }\n",
       "</style>\n",
       "<table border=\"1\" class=\"dataframe\">\n",
       "  <thead>\n",
       "    <tr style=\"text-align: right;\">\n",
       "      <th></th>\n",
       "      <th>k1</th>\n",
       "      <th>k3</th>\n",
       "    </tr>\n",
       "  </thead>\n",
       "  <tbody>\n",
       "    <tr>\n",
       "      <th>0</th>\n",
       "      <td>0.506173</td>\n",
       "      <td>0.493827</td>\n",
       "    </tr>\n",
       "  </tbody>\n",
       "</table>\n",
       "</div>"
      ],
      "text/plain": [
       "         k1        k3\n",
       "0  0.506173  0.493827"
      ]
     },
     "execution_count": 60,
     "metadata": {},
     "output_type": "execute_result"
    }
   ],
   "source": [
    "desharnaisLVQ3Prot5N = calculateScoresPrototypes(desharnais, 0, 0, desharnaislist, len(getClassList(desharnais))*5, 3, 3)\n",
    "desharnaisLVQ3Prot5NDF = pd.DataFrame([desharnaisLVQ3Prot5N], columns = ([\"k1\", \"k3\"]))\n",
    "desharnaisLVQ3Prot5NDF.to_csv(\"..//results/desharnaisLVQ2Prot5N.csv\", index=False)\n",
    "desharnaisLVQ3Prot5NDF"
   ]
  },
  {
   "cell_type": "markdown",
   "metadata": {},
   "source": [
    "### Gráficos do LVQ3"
   ]
  },
  {
   "cell_type": "code",
   "execution_count": 131,
   "metadata": {
    "collapsed": true
   },
   "outputs": [],
   "source": [
    "dataretrieveLVQ3K1Results = []\n",
    "dataretrieveLVQ3K1Results.append(dataretrieveLVQ3ProtNDF['k1'][0])\n",
    "dataretrieveLVQ3K1Results.append(dataretrieveLVQ3ProtN1DF['k1'][0])\n",
    "dataretrieveLVQ3K1Results.append(dataretrieveLVQ3Prot2NDF['k1'][0])\n",
    "dataretrieveLVQ3K1Results.append(dataretrieveLVQ3Prot3NDF['k1'][0])\n",
    "dataretrieveLVQ3K1Results.append(dataretrieveLVQ3Prot5NDF['k1'][0])\n",
    "\n",
    "desharnaisLVQ3K1Results = []\n",
    "desharnaisLVQ3K1Results.append(desharnaisLVQ3ProtNDF['k1'][0])\n",
    "desharnaisLVQ3K1Results.append(desharnaisLVQ3ProtN1DF['k1'][0])\n",
    "desharnaisLVQ3K1Results.append(desharnaisLVQ3Prot2NDF['k1'][0])\n",
    "desharnaisLVQ3K1Results.append(desharnaisLVQ3Prot3NDF['k1'][0])\n",
    "desharnaisLVQ3K1Results.append(desharnaisLVQ3Prot5NDF['k1'][0])"
   ]
  },
  {
   "cell_type": "code",
   "execution_count": 132,
   "metadata": {},
   "outputs": [
    {
     "data": {
      "image/png": "[encoded data removed]",
      "text/plain": [
       "<matplotlib.figure.Figure at 0x1173002e8>"
      ]
     },
     "metadata": {},
     "output_type": "display_data"
    }
   ],
   "source": [
    "plt.ylim((0.85,0.95))\n",
    "ax = sns.barplot(x=['n','n+1','2n','3n','5n'], y=dataretrieveLVQ3K1Results, color = sns.xkcd_rgb['light blue'])\n",
    "ax.set(xlabel='Número de protótipos (n=número de classes)')\n",
    "ax.set(ylabel='% acerto')\n",
    "for p in ax.patches:\n",
    "    ax.annotate(np.round(p.get_height(), decimals=4), (p.get_x()+0.2, p.get_height()+0.002))\n",
    "plt.savefig(\"..//results/dataretrieveLVQ3K1Results.jpg\")\n",
    "plt.show()"
   ]
  },
  {
   "cell_type": "code",
   "execution_count": 133,
   "metadata": {},
   "outputs": [
    {
     "data": {
      "image/png": "[encoded data removed]",
      "text/plain": [
       "<matplotlib.figure.Figure at 0x11749ca20>"
      ]
     },
     "metadata": {},
     "output_type": "display_data"
    }
   ],
   "source": [
    "plt.ylim((0.4,0.65))\n",
    "ax = sns.barplot(x=['n','n+1','2n','3n','5n'], y=desharnaisLVQ3K1Results, color = sns.xkcd_rgb['light blue'])\n",
    "ax.set(xlabel='Número de protótipos (n=número de classes)')\n",
    "ax.set(ylabel='% acerto')\n",
    "for p in ax.patches:\n",
    "    ax.annotate(np.round(p.get_height(), decimals=4), (p.get_x()+0.2, p.get_height()+0.005))\n",
    "plt.savefig(\"..//results/desharnaisLVQ3K1Results.jpg\")\n",
    "plt.show()"
   ]
  },
  {
   "cell_type": "code",
   "execution_count": 134,
   "metadata": {
    "collapsed": true
   },
   "outputs": [],
   "source": [
    "dataretrieveLVQ3K3Results = []\n",
    "dataretrieveLVQ3K3Results.append(0)\n",
    "dataretrieveLVQ3K3Results.append(dataretrieveLVQ3ProtN1DF['k3'][0])\n",
    "dataretrieveLVQ3K3Results.append(dataretrieveLVQ3Prot2NDF['k3'][0])\n",
    "dataretrieveLVQ3K3Results.append(dataretrieveLVQ3Prot3NDF['k3'][0])\n",
    "dataretrieveLVQ3K3Results.append(dataretrieveLVQ3Prot5NDF['k3'][0])\n",
    "\n",
    "desharnaisLVQ3K3Results = []\n",
    "desharnaisLVQ3K3Results.append(desharnaisLVQ3ProtNDF['k3'][0])\n",
    "desharnaisLVQ3K3Results.append(desharnaisLVQ3ProtN1DF['k3'][0])\n",
    "desharnaisLVQ3K3Results.append(desharnaisLVQ3Prot2NDF['k3'][0])\n",
    "desharnaisLVQ3K3Results.append(desharnaisLVQ3Prot3NDF['k3'][0])\n",
    "desharnaisLVQ3K3Results.append(desharnaisLVQ3Prot5NDF['k3'][0])"
   ]
  },
  {
   "cell_type": "code",
   "execution_count": 135,
   "metadata": {},
   "outputs": [
    {
     "data": {
      "image/png": "[encoded data removed]",
      "text/plain": [
       "<matplotlib.figure.Figure at 0x117b34da0>"
      ]
     },
     "metadata": {},
     "output_type": "display_data"
    }
   ],
   "source": [
    "plt.ylim((0.05,0.95))\n",
    "ax = sns.barplot(x=['n','n+1','2n','3n','5n'], y=dataretrieveLVQ3K3Results, color = sns.xkcd_rgb['light blue'])\n",
    "ax.set(xlabel='Número de protótipos (n=número de classes)')\n",
    "ax.set(ylabel='% acerto')\n",
    "for p in ax.patches:\n",
    "    ax.annotate(np.round(p.get_height(), decimals=4), (p.get_x()+0.20, p.get_height()+0.01))\n",
    "plt.savefig(\"..//results/dataretrieveLVQ3K3Results.jpg\")\n",
    "plt.show()"
   ]
  },
  {
   "cell_type": "code",
   "execution_count": 136,
   "metadata": {},
   "outputs": [
    {
     "data": {
      "image/png": "[encoded data removed]",
      "text/plain": [
       "<matplotlib.figure.Figure at 0x117c4b048>"
      ]
     },
     "metadata": {},
     "output_type": "display_data"
    }
   ],
   "source": [
    "plt.ylim((0.2,0.65))\n",
    "ax = sns.barplot(x=['n','n+1','2n','3n','5n'], y=desharnaisLVQ3K3Results, color = sns.xkcd_rgb['light blue'])\n",
    "ax.set(xlabel='Número de protótipos (n=número de classes)')\n",
    "ax.set(ylabel='% acerto')\n",
    "for p in ax.patches:\n",
    "    ax.annotate(np.round(p.get_height(), decimals=4), (p.get_x()+0.2, p.get_height()+0.005))\n",
    "plt.savefig(\"..//results/desharnaisLVQ3K3Results.jpg\")\n",
    "plt.show()"
   ]
  }
 ],
 "metadata": {
  "kernelspec": {
   "display_name": "Python 3",
   "language": "python",
   "name": "python3"
  },
  "language_info": {
   "codemirror_mode": {
    "name": "ipython",
    "version": 3
   },
   "file_extension": ".py",
   "mimetype": "text/x-python",
   "name": "python",
   "nbconvert_exporter": "python",
   "pygments_lexer": "ipython3",
   "version": "3.6.1"
  }
 },
 "nbformat": 4,
 "nbformat_minor": 2
}
